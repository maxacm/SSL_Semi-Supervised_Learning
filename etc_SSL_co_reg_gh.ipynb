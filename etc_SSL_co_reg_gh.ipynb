{
  "cells": [
    {
      "attachments": {},
      "cell_type": "markdown",
      "metadata": {
        "id": "kpgMzGwuBPU_"
      },
      "source": [
        "# SSL: Co-Regression\n",
        "\n",
        "Max Calzada\n",
        "\n",
        "Last Updated: 2023 April 29\n"
      ]
    },
    {
      "attachments": {},
      "cell_type": "markdown",
      "metadata": {
        "id": "HlbcigXsQ3NF"
      },
      "source": [
        "\n",
        "# [Co-Regression](https://www.ijcai.org/Proceedings/05/Papers/0689.pdf) Model\n",
        "\n",
        "This is the second complete Co-Reg model.\n",
        "\n",
        "### Loading ETC Data:\n",
        "`X_LBoB.npy` contains the observations and `y_LBoB.npy` contains the detonation values (variable of interest)."
      ]
    },
    {
      "cell_type": "code",
      "execution_count": 14,
      "metadata": {
        "id": "CRTr7a11BKvO"
      },
      "outputs": [],
      "source": [
        "# Code based off of: https://github.com/ermongroup/ssdkl/blob/master/ssdkl/models/coreg.py\n",
        "\n",
        "from time import time\n",
        "import os\n",
        "\n",
        "import numpy as np\n",
        "from sklearn.neighbors import KNeighborsRegressor\n",
        "from sklearn.utils import shuffle\n",
        "from sklearn.metrics import mean_squared_error\n",
        "from sklearn.metrics import mean_absolute_error as mae # Max added this (and all other MAEs).\n",
        "\n",
        "# regression\n",
        "import statsmodels.api as sm\n",
        "from scipy import stats\n",
        "\n",
        "# visuals\n",
        "import pandas as pd\n",
        "import matplotlib.pyplot as plt\n",
        "\n",
        "\n",
        "def load_data(data_dir):\n",
        "    \"\"\"\n",
        "    Loads data from data directory.\n",
        "    \"\"\"\n",
        "    X = np.load(os.path.join(data_dir, 'X_LBoB.npy')) # 'X.npy'\n",
        "    y = np.load(os.path.join(data_dir, 'y_LBoB.npy')) # 'y.npy'\n",
        "    return X, y.reshape(-1, 1)\n",
        "\n",
        "\n",
        "class Coreg():\n",
        "    \"\"\"\n",
        "    Instantiates a CoReg regressor.\n",
        "    \"\"\"\n",
        "    def __init__(self, k1=3, k2=3, p1=2, p2=5, max_iters=100, pool_size=100):\n",
        "        self.k1, self.k2 = k1, k2  # number of neighbors\n",
        "        self.p1, self.p2 = p1, p2  # distance metrics\n",
        "        self.max_iters = max_iters\n",
        "        self.pool_size = pool_size\n",
        "        self.h1 = KNeighborsRegressor(n_neighbors=self.k1, p=self.p1)\n",
        "        self.h2 = KNeighborsRegressor(n_neighbors=self.k2, p=self.p2)\n",
        "        self.h1_temp = KNeighborsRegressor(n_neighbors=self.k1, p=self.p1)\n",
        "        self.h2_temp = KNeighborsRegressor(n_neighbors=self.k2, p=self.p2)\n",
        "\n",
        "    def add_data(self, data_dir):\n",
        "        \"\"\"\n",
        "        Adds data and splits into labeled and unlabeled.\n",
        "        \"\"\"\n",
        "        self.X, self.y = load_data(data_dir)\n",
        "\n",
        "    def run_trials(self, num_train=100, trials=10, verbose=False):\n",
        "        \"\"\"\n",
        "        Runs multiple trials of training.\n",
        "        \"\"\"\n",
        "        self.num_train = num_train\n",
        "        self.num_trials = trials\n",
        "        self._initialize_metrics()\n",
        "        self.trial = 0\n",
        "        while self.trial < self.num_trials:\n",
        "            t0 = time()\n",
        "            # print('Starting trial {}:'.format(self.trial + 1))\n",
        "            self.train((self.trial+self.num_train), num_labeled, num_test, verbose, store_results=True)\n",
        "            # self.train(\n",
        "                # random_state=(self.trial+self.num_train),\n",
        "                # num_labeled=self.num_train, num_test=1000, verbose=verbose,\n",
        "                # store_results=True)\n",
        "            # M: I edited this code because these hardcoded values do not allow the user inputs to change the model.\n",
        "            # print('Finished trial {}: {:0.2f}s elapsed\\n'.format(\n",
        "                # self.trial + 1, time() - t0))\n",
        "            tune_mses_test.append(self.mse_test)\n",
        "            tune_mses_train.append(self.mse_train)\n",
        "            tune_mses1_test.append(self.mse1_test)\n",
        "            tune_mses1_train.append(self.mse1_train)\n",
        "            tune_mses2_test.append(self.mse2_test)\n",
        "            tune_mses2_train.append(self.mse2_train)\n",
        "\n",
        "            tune_maes_test.append(self.mae_test)\n",
        "            tune_maes_train.append(self.mae_train)\n",
        "            tune_maes1_test.append(self.mae1_test)\n",
        "            tune_maes1_train.append(self.mae1_train)\n",
        "            tune_maes2_test.append(self.mae2_test)\n",
        "            tune_maes2_train.append(self.mae2_train)\n",
        "            self.trial += 1\n",
        "            # maybe here\n",
        "\n",
        "    def train(self, random_state=-1, num_labeled=100, num_test=1000,\n",
        "              verbose=False, store_results=False):\n",
        "        \"\"\"\n",
        "        Trains the CoReg regressor.\n",
        "        \"\"\"\n",
        "        t0 = time()\n",
        "        self._split_data(random_state, num_labeled, num_test)\n",
        "        self._fit_and_evaluate(verbose)\n",
        "        if store_results:\n",
        "            self._store_results(0)\n",
        "        self._get_pool()\n",
        "        if verbose:\n",
        "            # print('Initialized h1, h2: {:0.2f}s\\n'.format(time()-t0))\n",
        "            pass\n",
        "        for t in range(1, self.max_iters+1):\n",
        "            stop_training = self._run_iteration(t, t0, verbose, store_results)\n",
        "            if stop_training:\n",
        "              pass # Max added this\n",
        "\n",
        "\n",
        "                # if verbose:\n",
        "                    # print('Done in {} iterations: {:0.2f}s'.format(t, time()-t0))\n",
        "                # break\n",
        "        # if verbose:\n",
        "            # print('Finished {} iterations: {:0.2f}s'.format(t, time()-t0))\n",
        "\n",
        "    def _run_iteration(self, t, t0, verbose=False, store_results=False):\n",
        "        \"\"\"\n",
        "        Run t-th iteration of co-training, returns stop_training=True if\n",
        "        no more unlabeled points are added to label sets.\n",
        "        \"\"\"\n",
        "        stop_training = False\n",
        "        if verbose:\n",
        "            # print('Started iteration {}: {:0.2f}s'.format(t, time()-t0))\n",
        "            pass\n",
        "        self._find_points_to_add()\n",
        "        added = self._add_points()\n",
        "        if added:\n",
        "            self._fit_and_evaluate(verbose)\n",
        "            if store_results:\n",
        "                self._store_results(t)\n",
        "            self._remove_from_unlabeled()\n",
        "            self._get_pool()\n",
        "        else:\n",
        "            stop_training = True\n",
        "        return stop_training\n",
        "\n",
        "    def _add_points(self):\n",
        "        \"\"\"\n",
        "        Adds new examples to training sets.\n",
        "        \"\"\"\n",
        "        added = False\n",
        "        if self.to_add['x1'] is not None:\n",
        "            self.L2_X = np.vstack((self.L2_X, self.to_add['x1']))\n",
        "            self.L2_y = np.vstack((self.L2_y, self.to_add['y1']))\n",
        "            added = True\n",
        "        if self.to_add['x2'] is not None:\n",
        "            self.L1_X = np.vstack((self.L1_X, self.to_add['x2']))\n",
        "            self.L1_y = np.vstack((self.L1_y, self.to_add['y2']))\n",
        "            added = True\n",
        "        return added\n",
        "\n",
        "    def _compute_delta(self, omega, L_X, L_y, h, h_temp):\n",
        "        \"\"\"\n",
        "        Computes the improvement in MSE among the neighbors of the point being\n",
        "        evaluated.\n",
        "        \"\"\"\n",
        "        delta = 0\n",
        "        for idx_o in omega:\n",
        "            delta += (L_y[idx_o].reshape(1, -1) -\n",
        "                      h.predict(L_X[idx_o].reshape(1, -1))) ** 2\n",
        "            delta -= (L_y[idx_o].reshape(1, -1) -\n",
        "                      h_temp.predict(L_X[idx_o].reshape(1, -1))) ** 2\n",
        "        return delta\n",
        "\n",
        "    def _compute_deltas(self, L_X, L_y, h, h_temp):\n",
        "        \"\"\"\n",
        "        Computes the improvements in local MSE for all points in pool.\n",
        "        \"\"\"\n",
        "        deltas = np.zeros((self.U_X_pool.shape[0],))\n",
        "        for idx_u, x_u in enumerate(self.U_X_pool):\n",
        "            # Make prediction\n",
        "            x_u = x_u.reshape(1, -1)\n",
        "            y_u_hat = h.predict(x_u).reshape(1, -1)\n",
        "            # Compute neighbors\n",
        "            omega = h.kneighbors(x_u, return_distance=False)[0]\n",
        "            # Retrain regressor after adding unlabeled point\n",
        "            X_temp = np.vstack((L_X, x_u))\n",
        "            y_temp = np.vstack((L_y, y_u_hat))  # use predicted y_u_hat\n",
        "            h_temp.fit(X_temp, y_temp)\n",
        "            delta = self._compute_delta(omega, L_X, L_y, h, h_temp)\n",
        "            deltas[idx_u] = delta\n",
        "        return deltas\n",
        "\n",
        "    def _evaluate_metrics(self, verbose):\n",
        "        \"\"\"\n",
        "        Evaluates KNN regressors on training and test data.\n",
        "        \"\"\"\n",
        "        train1_hat = self.h1.predict(self.X_labeled)\n",
        "        train2_hat = self.h2.predict(self.X_labeled)\n",
        "        train_hat = 0.5 * (train1_hat + train2_hat)\n",
        "        test1_hat = self.h1.predict(self.X_test)\n",
        "        test2_hat = self.h2.predict(self.X_test)\n",
        "        test_hat = 0.5 * (test1_hat + test2_hat)\n",
        "        # mse\n",
        "        self.mse1_train = mean_squared_error(train1_hat, self.y_labeled)\n",
        "        self.mse1_test = mean_squared_error(test1_hat, self.y_test)\n",
        "        self.mse2_train = mean_squared_error(train2_hat, self.y_labeled)\n",
        "        self.mse2_test = mean_squared_error(test2_hat, self.y_test)\n",
        "        self.mse_train = mean_squared_error(train_hat, self.y_labeled)\n",
        "        self.mse_test = mean_squared_error(test_hat, self.y_test)\n",
        "        # mae # Max added this.\n",
        "        self.mae1_train = mae(train1_hat, self.y_labeled)\n",
        "        self.mae1_test = mae(test1_hat, self.y_test)\n",
        "        self.mae2_train = mae(train2_hat, self.y_labeled)\n",
        "        self.mae2_test = mae(test2_hat, self.y_test)\n",
        "        self.mae_train = mae(train_hat, self.y_labeled)\n",
        "        self.mae_test = mae(test_hat, self.y_test)\n",
        "\n",
        "        # if verbose:\n",
        "            # print('MSEs:')\n",
        "            # print('  KNN1:')\n",
        "            # print('    Train: {:0.4f}'.format(self.mse1_train))\n",
        "            # print('    Test : {:0.4f}'.format(self.mse1_test))\n",
        "            # print('  KNN2:')\n",
        "            # print('    Train: {:0.4f}'.format(self.mse2_train))\n",
        "            # print('    Test : {:0.4f}'.format(self.mse2_test))\n",
        "            # print('  Combined:')\n",
        "            # print('    Train: {:0.4f}'.format(self.mse_train))\n",
        "            # print('    Test : {:0.4f}\\n'.format(self.mse_test))\n",
        "            # print('MAEs:')\n",
        "            # print('  KNN1:')\n",
        "            # print('    Train: {:0.4f}'.format(self.mae1_train))\n",
        "            # print('    Test : {:0.4f}'.format(self.mae1_test))\n",
        "            # print('  KNN2:')\n",
        "            # print('    Train: {:0.4f}'.format(self.mae2_train))\n",
        "            # print('    Test : {:0.4f}'.format(self.mae2_test))\n",
        "            # print('  Combined:')\n",
        "            # print('    Train: {:0.4f}'.format(self.mae_train))\n",
        "            # print('    Test : {:0.4f}\\n'.format(self.mae_test))\n",
        "\n",
        "\n",
        "    def _find_points_to_add(self):\n",
        "        \"\"\"\n",
        "        Finds unlabeled points (if any) to add to training sets.\n",
        "        \"\"\"\n",
        "        self.to_add = {'x1': None, 'y1': None, 'idx1': None,\n",
        "                       'x2': None, 'y2': None, 'idx2': None}\n",
        "        # Keep track of added idxs\n",
        "        added_idxs = []\n",
        "        for idx_h in [1, 2]:\n",
        "            if idx_h == 1:\n",
        "                h = self.h1\n",
        "                h_temp = self.h1_temp\n",
        "                L_X, L_y = self.L1_X, self.L1_y\n",
        "            elif idx_h == 2:\n",
        "                h = self.h2\n",
        "                h_temp = self.h2_temp\n",
        "                L_X, L_y = self.L2_X, self.L2_y\n",
        "            deltas = self._compute_deltas(L_X, L_y, h, h_temp)\n",
        "            # Add largest delta (improvement)\n",
        "            sort_idxs = np.argsort(deltas)[::-1]  # max to min\n",
        "            max_idx = sort_idxs[0]\n",
        "            if max_idx in added_idxs:\n",
        "                max_idx = sort_idxs[1]\n",
        "            if deltas[max_idx] > 0:\n",
        "                added_idxs.append(max_idx)\n",
        "                x_u = self.U_X_pool[max_idx].reshape(1, -1)\n",
        "                y_u_hat = h.predict(x_u).reshape(1, -1)\n",
        "                self.to_add['x' + str(idx_h)] = x_u\n",
        "                self.to_add['y' + str(idx_h)] = y_u_hat\n",
        "                self.to_add['idx' + str(idx_h)] = self.U_idx_pool[max_idx]\n",
        "\n",
        "    def _fit_and_evaluate(self, verbose):\n",
        "        \"\"\"\n",
        "        Fits h1 and h2 and evaluates metrics.\n",
        "        \"\"\"\n",
        "        self.h1.fit(self.L1_X, self.L1_y)\n",
        "        self.h2.fit(self.L2_X, self.L2_y)\n",
        "        self._evaluate_metrics(verbose)\n",
        "\n",
        "    def _get_pool(self):\n",
        "        \"\"\"\n",
        "        Gets unlabeled pool and indices of unlabeled.\n",
        "        \"\"\"\n",
        "        self.U_X_pool, self.U_y_pool, self.U_idx_pool = shuffle(\n",
        "            self.U_X, self.U_y, range(self.U_y.size))\n",
        "        self.U_X_pool = self.U_X_pool[:self.pool_size]\n",
        "        self.U_y_pool = self.U_y_pool[:self.pool_size]\n",
        "        self.U_idx_pool = self.U_idx_pool[:self.pool_size]\n",
        "\n",
        "    def _initialize_metrics(self):\n",
        "        \"\"\"\n",
        "        Sets up metrics to be stored.\n",
        "        \"\"\"\n",
        "        initial_metrics = np.full((self.num_trials, self.max_iters+1), np.inf)\n",
        "        # mse\n",
        "        self.mses1_train = np.copy(initial_metrics)\n",
        "        self.mses1_test = np.copy(initial_metrics)\n",
        "        self.mses2_train = np.copy(initial_metrics)\n",
        "        self.mses2_test = np.copy(initial_metrics)\n",
        "        self.mses_train = np.copy(initial_metrics)\n",
        "        self.mses_test = np.copy(initial_metrics)\n",
        "        # mae\n",
        "        self.maes1_train = np.copy(initial_metrics)\n",
        "        self.maes1_test = np.copy(initial_metrics)\n",
        "        self.maes2_train = np.copy(initial_metrics)\n",
        "        self.maes2_test = np.copy(initial_metrics)\n",
        "        self.maes_train = np.copy(initial_metrics)\n",
        "        self.maes_test = np.copy(initial_metrics)\n",
        "\n",
        "    def _remove_from_unlabeled(self):\n",
        "        # Remove added examples from unlabeled\n",
        "        to_remove = []\n",
        "        if self.to_add['idx1'] is not None:\n",
        "            to_remove.append(self.to_add['idx1'])\n",
        "        if self.to_add['idx2'] is not None:\n",
        "            to_remove.append(self.to_add['idx2'])\n",
        "        self.U_X = np.delete(self.U_X, to_remove, axis=0)\n",
        "        self.U_y = np.delete(self.U_y, to_remove, axis=0)\n",
        "\n",
        "    def _split_data(self, random_state=-1, num_labeled=100, num_test=1000):\n",
        "        \"\"\"\n",
        "        Shuffles data and splits it into train, test, and unlabeled sets.\n",
        "        \"\"\"\n",
        "        if random_state >= 0:\n",
        "            self.X_shuffled, self.y_shuffled, self.shuffled_indices = shuffle(\n",
        "                self.X, self.y, range(self.y.size), random_state=random_state)\n",
        "        else:\n",
        "            self.X_shuffled = self.X[:]\n",
        "            self.y_shuffled = self.y[:]\n",
        "            self.shuffled_indices = range(self.y.size)\n",
        "        # Initial labeled, test, and unlabeled sets\n",
        "        test_end = num_labeled + num_test\n",
        "        self.X_labeled = self.X_shuffled[:num_labeled]\n",
        "        self.y_labeled = self.y_shuffled[:num_labeled]\n",
        "        self.X_test = self.X_shuffled[num_labeled:test_end]\n",
        "        self.y_test = self.y_shuffled[num_labeled:test_end]\n",
        "        self.X_unlabeled = self.X_shuffled[test_end:]\n",
        "        self.y_unlabeled = self.y_shuffled[test_end:]\n",
        "        # Up-to-date training sets and unlabeled set\n",
        "        self.L1_X = self.X_labeled[:]\n",
        "        self.L1_y = self.y_labeled[:]\n",
        "        self.L2_X = self.X_labeled[:]\n",
        "        self.L2_y = self.y_labeled[:]\n",
        "        self.U_X = self.X_unlabeled[:]\n",
        "        self.U_y = self.y_unlabeled[:]\n",
        "\n",
        "    def _store_results(self, iteration):\n",
        "        \"\"\"\n",
        "        Stores current MSEs and MAEs.\n",
        "        \"\"\"\n",
        "        # mse\n",
        "        self.mses1_train[self.trial, iteration] = self.mse1_train\n",
        "        self.mses1_test[self.trial, iteration] = self.mse1_test\n",
        "        self.mses2_train[self.trial, iteration] = self.mse2_train\n",
        "        self.mses2_test[self.trial, iteration] = self.mse2_test\n",
        "        self.mses_train[self.trial, iteration] = self.mse_train\n",
        "        self.mses_test[self.trial, iteration] = self.mse_test\n",
        "        # mae\n",
        "        self.maes1_train[self.trial, iteration] = self.mae1_train\n",
        "        self.maes1_test[self.trial, iteration] = self.mae1_test\n",
        "        self.maes2_train[self.trial, iteration] = self.mae2_train\n",
        "        self.maes2_test[self.trial, iteration] = self.mae2_test\n",
        "        self.maes_train[self.trial, iteration] = self.mae_train\n",
        "        self.maes_test[self.trial, iteration] = self.mae_test\n"
      ]
    },
    {
      "attachments": {},
      "cell_type": "markdown",
      "metadata": {
        "id": "Z2E7je-OBqZa"
      },
      "source": [
        "### User Inputs"
      ]
    },
    {
      "cell_type": "code",
      "execution_count": null,
      "metadata": {
        "id": "bPd_VyaTBsps"
      },
      "outputs": [],
      "source": [
        "# Code based off of: https://github.com/nealjean/coreg/blob/master/src/run_coreg.py\n",
        "\n",
        "# from coreg import Coreg\n",
        "# import numpy as np\n",
        "\n",
        "# load user data\n",
        "X_data = np.load(os.path.join(data_dir, 'X_LBoB.npy'))\n",
        "y_data = np.load(os.path.join(data_dir, 'y_LBoB.npy'))\n",
        "\n",
        "data_dir = '/content' # '../data/skillcraft'\n",
        "  # folder where data are stored\n",
        "k1 = 3 # 3\n",
        "k2 = 3 # 3\n",
        "p1 = 2 # 2\n",
        "p2 = 5 # 5\n",
        "max_iters = 64 # 100\n",
        "pool_size = 100 # 100\n",
        "verbose = True\n",
        "random_state = -1 # -1\n",
        "num_labeled = 32 # 100\n",
        "num_test = 109 # 1000\n",
        "\n",
        "cr = Coreg(k1, k2, p1, p2, max_iters, pool_size)\n",
        "cr.add_data(data_dir)\n",
        "\n",
        "# Run training\n",
        "num_train = 328 # 100\n",
        "trials = 1 # 3\n",
        "verbose = True\n",
        "# cr.run_trials(num_train, trials, verbose)\n",
        "\n",
        "# Model tunning # Max added this\n",
        "tune_iter = 100 # 100 # user selected input\n"
      ]
    },
    {
      "attachments": {},
      "cell_type": "markdown",
      "metadata": {
        "id": "yKHSC7WrFpxR"
      },
      "source": [
        "### Model Tunning\n",
        "\n",
        "#### Max's code"
      ]
    },
    {
      "cell_type": "code",
      "execution_count": null,
      "metadata": {
        "id": "fZQkUqbvCYDO"
      },
      "outputs": [],
      "source": [
        "tune_iter = 50"
      ]
    },
    {
      "cell_type": "code",
      "execution_count": null,
      "metadata": {
        "id": "Ssyr-9k-ft3q"
      },
      "outputs": [],
      "source": [
        "import random\n",
        "\n",
        "data_dir = '/content'\n",
        "X_data = np.load(os.path.join(data_dir, 'X_LBoB.npy'))\n",
        "y_data = np.load(os.path.join(data_dir, 'y_LBoB.npy'))\n",
        "X_len = len(X_data-1)\n",
        "\n",
        "\n",
        "tune_mses_test = []\n",
        "tune_mses_train = []\n",
        "tune_mses1_test = []\n",
        "tune_mses1_train = []\n",
        "tune_mses2_test = []\n",
        "tune_mses2_train = []\n",
        "\n",
        "tune_maes_test = []\n",
        "tune_maes_train = []\n",
        "tune_maes1_test = []\n",
        "tune_maes1_train = []\n",
        "tune_maes2_test = []\n",
        "tune_maes2_train = []\n",
        "\n",
        "tune_num_train = []\n",
        "tune_num_test = []\n",
        "\n",
        "tune_num_labeled = []\n",
        "tune_num_unlabeled = []\n",
        "tune_pool_size = []\n",
        "tune_max_iters = []\n",
        "\n",
        "tune_k1 = []\n",
        "tune_k2 = []\n",
        "tune_p1 = []\n",
        "tune_p2 = []\n",
        "\n",
        "for t_iter in range(1,tune_iter): # 1 or 0\n",
        "\n",
        "  # generate random values for hyperparameters\n",
        "  num_train_loop = random.randint(40, X_len-20) # minimum of 35 training points\n",
        "  num_test_loop = X_len-num_train_loop # minimum of 10 testing points\n",
        "\n",
        "  num_labeled_loop = random.randint(20, num_train_loop-20) # minimum of 20 labeled points\n",
        "  num_unlabeled_loop = num_train_loop-num_labeled_loop # minimum of 10 unlabeled points\n",
        "\n",
        "  pool_size_loop = random.randint(20, num_train_loop)\n",
        "  max_iters_loop = num_unlabeled_loop\n",
        "\n",
        "  k1_loop = random.randint(3, 9)\n",
        "  k2_loop = random.randint(3, 9)\n",
        "  p1_loop = random.randrange(2, 10, 2)\n",
        "  p2_loop = random.randrange(1, 9, 2)\n",
        "\n",
        "\n",
        "  # append the different sets each loop\n",
        "  tune_num_train.append(num_train_loop)\n",
        "  tune_num_test.append(num_test_loop)\n",
        "  tune_num_labeled.append(num_labeled_loop)\n",
        "  tune_num_unlabeled.append(num_unlabeled_loop)\n",
        "  tune_pool_size.append(pool_size_loop)\n",
        "  tune_max_iters.append(max_iters_loop)\n",
        "  tune_k1.append(k1_loop)\n",
        "  tune_k2.append(k2_loop)\n",
        "  tune_p1.append(p1_loop)\n",
        "  tune_p2.append(p2_loop)\n",
        "\n",
        "\n",
        "  # set up Co-Reg model\n",
        "  num_labeled = num_labeled_loop\n",
        "  num_test = num_test_loop\n",
        "\n",
        "  verbose = True\n",
        "  random_state = -1 # -1\n",
        "  cr = Coreg(k1_loop, k2_loop, p1_loop, p2_loop, max_iters_loop, pool_size_loop)\n",
        "  cr.add_data(data_dir)\n",
        "\n",
        "  num_train = num_train_loop # 100\n",
        "  trials = 1 # 3\n",
        "  verbose = True\n",
        "  cr.run_trials(num_train, trials, verbose)\n",
        "\n",
        "  # store final MSE and MAE of each run\n",
        "\n"
      ]
    },
    {
      "cell_type": "code",
      "execution_count": null,
      "metadata": {
        "colab": {
          "base_uri": "https://localhost:8080/"
        },
        "id": "De5D65KGDJXT",
        "outputId": "03186fc2-9134-4617-add0-423d71b8d651"
      },
      "outputs": [
        {
          "name": "stdout",
          "output_type": "stream",
          "text": [
            "99 99 99 99 99 99 99 99 99 99 99 99\n"
          ]
        }
      ],
      "source": [
        "print(len(tune_mses_test), len(tune_mses_train), \n",
        "      len(tune_num_train), len(tune_num_test),\n",
        "      len(tune_num_labeled), len(tune_num_unlabeled),\n",
        "      len(tune_pool_size), len(tune_max_iters),\n",
        "      len(tune_k1), len(tune_k2), len(tune_p1), len(tune_p2)\n",
        "      )"
      ]
    },
    {
      "cell_type": "code",
      "execution_count": null,
      "metadata": {
        "id": "WevsJ-ulFy_H"
      },
      "outputs": [],
      "source": [
        "import pandas as pd"
      ]
    },
    {
      "cell_type": "code",
      "execution_count": null,
      "metadata": {
        "id": "AsnicA_YRFXd"
      },
      "outputs": [],
      "source": [
        "# https://stackoverflow.com/questions/30522724/take-multiple-lists-into-dataframe\n",
        "\n",
        "df_tune = pd.DataFrame(\n",
        "    {'tune_mses_test': tune_mses_test,\n",
        "     'tune_mses_train': tune_mses_train,\n",
        "     'tune_mses1_test': tune_mses1_test,\n",
        "     'tune_mses1_train': tune_mses1_train,\n",
        "     'tune_mses2_test': tune_mses2_test,\n",
        "     'tune_mses2_train': tune_mses2_train,\n",
        "\n",
        "     'tune_maes_test': tune_maes_test,\n",
        "     'tune_maes_train': tune_maes_train,\n",
        "     'tune_maes1_test': tune_maes1_test,\n",
        "     'tune_maes1_train': tune_maes1_train,\n",
        "     'tune_maes2_test': tune_maes2_test,\n",
        "     'tune_maes2_train': tune_maes2_train,\n",
        "\n",
        "     'tune_num_train': tune_num_train,\n",
        "     'tune_num_test': tune_num_test,\n",
        "\n",
        "     'tune_num_labeled': tune_num_labeled,\n",
        "     'tune_num_unlabeled': tune_num_unlabeled,\n",
        "     'tune_pool_size': tune_pool_size,\n",
        "     'tune_max_iters': tune_max_iters,\n",
        "\n",
        "     'tune_k1': tune_k1,\n",
        "     'tune_k2': tune_k2,\n",
        "     'tune_p1': tune_p1,\n",
        "     'tune_p2': tune_p2\n",
        "    })"
      ]
    },
    {
      "cell_type": "code",
      "execution_count": null,
      "metadata": {
        "id": "EEOcjCHhS-Yq"
      },
      "outputs": [],
      "source": [
        "# df_tune"
      ]
    },
    {
      "cell_type": "code",
      "execution_count": null,
      "metadata": {
        "id": "VsBwScQbUSZa"
      },
      "outputs": [],
      "source": [
        "# Code based off of: https://discovery.cs.illinois.edu/guides/Saving-Data/pandas-save-csv/\n",
        "\n",
        "df_tune.to_csv(\"etc_tune.csv\", index=False)"
      ]
    },
    {
      "cell_type": "code",
      "execution_count": null,
      "metadata": {
        "id": "bGniM-Y5Uuvq"
      },
      "outputs": [],
      "source": [
        "df_tune.to_csv(\"etc_tune_i.csv\", index=True)"
      ]
    },
    {
      "attachments": {},
      "cell_type": "markdown",
      "metadata": {
        "id": "9zBj-BvAsTwW"
      },
      "source": [
        "# Hyperparameter Tuning Analysis"
      ]
    },
    {
      "cell_type": "code",
      "execution_count": 3,
      "metadata": {
        "id": "JyiEZ9bRtYkH"
      },
      "outputs": [],
      "source": [
        "etc_tune = pd.read_csv('etc_tune.csv')"
      ]
    },
    {
      "cell_type": "code",
      "execution_count": null,
      "metadata": {
        "colab": {
          "base_uri": "https://localhost:8080/",
          "height": 394
        },
        "id": "RMRWDsPEtrxN",
        "outputId": "89be6c22-4f1f-431f-ff2d-aca6e9665c49"
      },
      "outputs": [
        {
          "data": {
            "text/html": [
              "\n",
              "  <div id=\"df-0af96a90-78f3-4ba5-8910-550a156a09c2\">\n",
              "    <div class=\"colab-df-container\">\n",
              "      <div>\n",
              "<style scoped>\n",
              "    .dataframe tbody tr th:only-of-type {\n",
              "        vertical-align: middle;\n",
              "    }\n",
              "\n",
              "    .dataframe tbody tr th {\n",
              "        vertical-align: top;\n",
              "    }\n",
              "\n",
              "    .dataframe thead th {\n",
              "        text-align: right;\n",
              "    }\n",
              "</style>\n",
              "<table border=\"1\" class=\"dataframe\">\n",
              "  <thead>\n",
              "    <tr style=\"text-align: right;\">\n",
              "      <th></th>\n",
              "      <th>tune_mses_test</th>\n",
              "      <th>tune_mses_train</th>\n",
              "      <th>tune_mses1_test</th>\n",
              "      <th>tune_mses1_train</th>\n",
              "      <th>tune_mses2_test</th>\n",
              "      <th>tune_mses2_train</th>\n",
              "      <th>tune_maes_test</th>\n",
              "      <th>tune_maes_train</th>\n",
              "      <th>tune_maes1_test</th>\n",
              "      <th>tune_maes1_train</th>\n",
              "      <th>...</th>\n",
              "      <th>tune_num_train</th>\n",
              "      <th>tune_num_test</th>\n",
              "      <th>tune_num_labeled</th>\n",
              "      <th>tune_num_unlabeled</th>\n",
              "      <th>tune_pool_size</th>\n",
              "      <th>tune_max_iters</th>\n",
              "      <th>tune_k1</th>\n",
              "      <th>tune_k2</th>\n",
              "      <th>tune_p1</th>\n",
              "      <th>tune_p2</th>\n",
              "    </tr>\n",
              "  </thead>\n",
              "  <tbody>\n",
              "    <tr>\n",
              "      <th>count</th>\n",
              "      <td>99.000000</td>\n",
              "      <td>99.000000</td>\n",
              "      <td>99.000000</td>\n",
              "      <td>99.000000</td>\n",
              "      <td>99.000000</td>\n",
              "      <td>99.000000</td>\n",
              "      <td>99.000000</td>\n",
              "      <td>99.000000</td>\n",
              "      <td>99.000000</td>\n",
              "      <td>99.000000</td>\n",
              "      <td>...</td>\n",
              "      <td>99.000000</td>\n",
              "      <td>99.000000</td>\n",
              "      <td>99.000000</td>\n",
              "      <td>99.000000</td>\n",
              "      <td>99.000000</td>\n",
              "      <td>99.000000</td>\n",
              "      <td>99.000000</td>\n",
              "      <td>99.000000</td>\n",
              "      <td>99.000000</td>\n",
              "      <td>99.000000</td>\n",
              "    </tr>\n",
              "    <tr>\n",
              "      <th>mean</th>\n",
              "      <td>0.335507</td>\n",
              "      <td>0.190028</td>\n",
              "      <td>0.348210</td>\n",
              "      <td>0.201870</td>\n",
              "      <td>0.344201</td>\n",
              "      <td>0.197340</td>\n",
              "      <td>0.408557</td>\n",
              "      <td>0.312471</td>\n",
              "      <td>0.417378</td>\n",
              "      <td>0.322951</td>\n",
              "      <td>...</td>\n",
              "      <td>215.333333</td>\n",
              "      <td>223.666667</td>\n",
              "      <td>104.646465</td>\n",
              "      <td>110.686869</td>\n",
              "      <td>124.181818</td>\n",
              "      <td>110.686869</td>\n",
              "      <td>5.848485</td>\n",
              "      <td>5.888889</td>\n",
              "      <td>4.707071</td>\n",
              "      <td>3.868687</td>\n",
              "    </tr>\n",
              "    <tr>\n",
              "      <th>std</th>\n",
              "      <td>0.106473</td>\n",
              "      <td>0.084595</td>\n",
              "      <td>0.110055</td>\n",
              "      <td>0.084275</td>\n",
              "      <td>0.105285</td>\n",
              "      <td>0.099622</td>\n",
              "      <td>0.070649</td>\n",
              "      <td>0.071823</td>\n",
              "      <td>0.072884</td>\n",
              "      <td>0.070640</td>\n",
              "      <td>...</td>\n",
              "      <td>119.680442</td>\n",
              "      <td>119.680442</td>\n",
              "      <td>88.652188</td>\n",
              "      <td>85.347626</td>\n",
              "      <td>88.402646</td>\n",
              "      <td>85.347626</td>\n",
              "      <td>1.897171</td>\n",
              "      <td>2.132781</td>\n",
              "      <td>2.255390</td>\n",
              "      <td>2.141173</td>\n",
              "    </tr>\n",
              "    <tr>\n",
              "      <th>min</th>\n",
              "      <td>0.126410</td>\n",
              "      <td>0.087539</td>\n",
              "      <td>0.110901</td>\n",
              "      <td>0.087487</td>\n",
              "      <td>0.151610</td>\n",
              "      <td>0.079527</td>\n",
              "      <td>0.253677</td>\n",
              "      <td>0.208905</td>\n",
              "      <td>0.260302</td>\n",
              "      <td>0.209456</td>\n",
              "      <td>...</td>\n",
              "      <td>41.000000</td>\n",
              "      <td>23.000000</td>\n",
              "      <td>20.000000</td>\n",
              "      <td>20.000000</td>\n",
              "      <td>20.000000</td>\n",
              "      <td>20.000000</td>\n",
              "      <td>3.000000</td>\n",
              "      <td>3.000000</td>\n",
              "      <td>2.000000</td>\n",
              "      <td>1.000000</td>\n",
              "    </tr>\n",
              "    <tr>\n",
              "      <th>25%</th>\n",
              "      <td>0.241964</td>\n",
              "      <td>0.136607</td>\n",
              "      <td>0.252933</td>\n",
              "      <td>0.146391</td>\n",
              "      <td>0.265800</td>\n",
              "      <td>0.135114</td>\n",
              "      <td>0.354499</td>\n",
              "      <td>0.262842</td>\n",
              "      <td>0.359744</td>\n",
              "      <td>0.274418</td>\n",
              "      <td>...</td>\n",
              "      <td>95.500000</td>\n",
              "      <td>113.500000</td>\n",
              "      <td>35.000000</td>\n",
              "      <td>39.500000</td>\n",
              "      <td>51.000000</td>\n",
              "      <td>39.500000</td>\n",
              "      <td>4.000000</td>\n",
              "      <td>4.000000</td>\n",
              "      <td>2.000000</td>\n",
              "      <td>3.000000</td>\n",
              "    </tr>\n",
              "    <tr>\n",
              "      <th>50%</th>\n",
              "      <td>0.341617</td>\n",
              "      <td>0.161057</td>\n",
              "      <td>0.354996</td>\n",
              "      <td>0.181660</td>\n",
              "      <td>0.343485</td>\n",
              "      <td>0.164238</td>\n",
              "      <td>0.409348</td>\n",
              "      <td>0.290314</td>\n",
              "      <td>0.423371</td>\n",
              "      <td>0.309582</td>\n",
              "      <td>...</td>\n",
              "      <td>218.000000</td>\n",
              "      <td>221.000000</td>\n",
              "      <td>78.000000</td>\n",
              "      <td>83.000000</td>\n",
              "      <td>98.000000</td>\n",
              "      <td>83.000000</td>\n",
              "      <td>6.000000</td>\n",
              "      <td>5.000000</td>\n",
              "      <td>4.000000</td>\n",
              "      <td>3.000000</td>\n",
              "    </tr>\n",
              "    <tr>\n",
              "      <th>75%</th>\n",
              "      <td>0.406422</td>\n",
              "      <td>0.231725</td>\n",
              "      <td>0.427434</td>\n",
              "      <td>0.233775</td>\n",
              "      <td>0.410657</td>\n",
              "      <td>0.241728</td>\n",
              "      <td>0.458558</td>\n",
              "      <td>0.357877</td>\n",
              "      <td>0.474108</td>\n",
              "      <td>0.353576</td>\n",
              "      <td>...</td>\n",
              "      <td>325.500000</td>\n",
              "      <td>343.500000</td>\n",
              "      <td>154.000000</td>\n",
              "      <td>163.500000</td>\n",
              "      <td>185.000000</td>\n",
              "      <td>163.500000</td>\n",
              "      <td>7.000000</td>\n",
              "      <td>8.000000</td>\n",
              "      <td>6.000000</td>\n",
              "      <td>5.000000</td>\n",
              "    </tr>\n",
              "    <tr>\n",
              "      <th>max</th>\n",
              "      <td>0.662662</td>\n",
              "      <td>0.512723</td>\n",
              "      <td>0.683453</td>\n",
              "      <td>0.547984</td>\n",
              "      <td>0.647031</td>\n",
              "      <td>0.705439</td>\n",
              "      <td>0.594211</td>\n",
              "      <td>0.574820</td>\n",
              "      <td>0.612159</td>\n",
              "      <td>0.579687</td>\n",
              "      <td>...</td>\n",
              "      <td>416.000000</td>\n",
              "      <td>398.000000</td>\n",
              "      <td>382.000000</td>\n",
              "      <td>312.000000</td>\n",
              "      <td>377.000000</td>\n",
              "      <td>312.000000</td>\n",
              "      <td>9.000000</td>\n",
              "      <td>9.000000</td>\n",
              "      <td>8.000000</td>\n",
              "      <td>7.000000</td>\n",
              "    </tr>\n",
              "  </tbody>\n",
              "</table>\n",
              "<p>8 rows × 22 columns</p>\n",
              "</div>\n",
              "      <button class=\"colab-df-convert\" onclick=\"convertToInteractive('df-0af96a90-78f3-4ba5-8910-550a156a09c2')\"\n",
              "              title=\"Convert this dataframe to an interactive table.\"\n",
              "              style=\"display:none;\">\n",
              "        \n",
              "  <svg xmlns=\"http://www.w3.org/2000/svg\" height=\"24px\"viewBox=\"0 0 24 24\"\n",
              "       width=\"24px\">\n",
              "    <path d=\"M0 0h24v24H0V0z\" fill=\"none\"/>\n",
              "    <path d=\"M18.56 5.44l.94 2.06.94-2.06 2.06-.94-2.06-.94-.94-2.06-.94 2.06-2.06.94zm-11 1L8.5 8.5l.94-2.06 2.06-.94-2.06-.94L8.5 2.5l-.94 2.06-2.06.94zm10 10l.94 2.06.94-2.06 2.06-.94-2.06-.94-.94-2.06-.94 2.06-2.06.94z\"/><path d=\"M17.41 7.96l-1.37-1.37c-.4-.4-.92-.59-1.43-.59-.52 0-1.04.2-1.43.59L10.3 9.45l-7.72 7.72c-.78.78-.78 2.05 0 2.83L4 21.41c.39.39.9.59 1.41.59.51 0 1.02-.2 1.41-.59l7.78-7.78 2.81-2.81c.8-.78.8-2.07 0-2.86zM5.41 20L4 18.59l7.72-7.72 1.47 1.35L5.41 20z\"/>\n",
              "  </svg>\n",
              "      </button>\n",
              "      \n",
              "  <style>\n",
              "    .colab-df-container {\n",
              "      display:flex;\n",
              "      flex-wrap:wrap;\n",
              "      gap: 12px;\n",
              "    }\n",
              "\n",
              "    .colab-df-convert {\n",
              "      background-color: #E8F0FE;\n",
              "      border: none;\n",
              "      border-radius: 50%;\n",
              "      cursor: pointer;\n",
              "      display: none;\n",
              "      fill: #1967D2;\n",
              "      height: 32px;\n",
              "      padding: 0 0 0 0;\n",
              "      width: 32px;\n",
              "    }\n",
              "\n",
              "    .colab-df-convert:hover {\n",
              "      background-color: #E2EBFA;\n",
              "      box-shadow: 0px 1px 2px rgba(60, 64, 67, 0.3), 0px 1px 3px 1px rgba(60, 64, 67, 0.15);\n",
              "      fill: #174EA6;\n",
              "    }\n",
              "\n",
              "    [theme=dark] .colab-df-convert {\n",
              "      background-color: #3B4455;\n",
              "      fill: #D2E3FC;\n",
              "    }\n",
              "\n",
              "    [theme=dark] .colab-df-convert:hover {\n",
              "      background-color: #434B5C;\n",
              "      box-shadow: 0px 1px 3px 1px rgba(0, 0, 0, 0.15);\n",
              "      filter: drop-shadow(0px 1px 2px rgba(0, 0, 0, 0.3));\n",
              "      fill: #FFFFFF;\n",
              "    }\n",
              "  </style>\n",
              "\n",
              "      <script>\n",
              "        const buttonEl =\n",
              "          document.querySelector('#df-0af96a90-78f3-4ba5-8910-550a156a09c2 button.colab-df-convert');\n",
              "        buttonEl.style.display =\n",
              "          google.colab.kernel.accessAllowed ? 'block' : 'none';\n",
              "\n",
              "        async function convertToInteractive(key) {\n",
              "          const element = document.querySelector('#df-0af96a90-78f3-4ba5-8910-550a156a09c2');\n",
              "          const dataTable =\n",
              "            await google.colab.kernel.invokeFunction('convertToInteractive',\n",
              "                                                     [key], {});\n",
              "          if (!dataTable) return;\n",
              "\n",
              "          const docLinkHtml = 'Like what you see? Visit the ' +\n",
              "            '<a target=\"_blank\" href=https://colab.research.google.com/notebooks/data_table.ipynb>data table notebook</a>'\n",
              "            + ' to learn more about interactive tables.';\n",
              "          element.innerHTML = '';\n",
              "          dataTable['output_type'] = 'display_data';\n",
              "          await google.colab.output.renderOutput(dataTable, element);\n",
              "          const docLink = document.createElement('div');\n",
              "          docLink.innerHTML = docLinkHtml;\n",
              "          element.appendChild(docLink);\n",
              "        }\n",
              "      </script>\n",
              "    </div>\n",
              "  </div>\n",
              "  "
            ],
            "text/plain": [
              "       tune_mses_test  tune_mses_train  tune_mses1_test  tune_mses1_train  \\\n",
              "count       99.000000        99.000000        99.000000         99.000000   \n",
              "mean         0.335507         0.190028         0.348210          0.201870   \n",
              "std          0.106473         0.084595         0.110055          0.084275   \n",
              "min          0.126410         0.087539         0.110901          0.087487   \n",
              "25%          0.241964         0.136607         0.252933          0.146391   \n",
              "50%          0.341617         0.161057         0.354996          0.181660   \n",
              "75%          0.406422         0.231725         0.427434          0.233775   \n",
              "max          0.662662         0.512723         0.683453          0.547984   \n",
              "\n",
              "       tune_mses2_test  tune_mses2_train  tune_maes_test  tune_maes_train  \\\n",
              "count        99.000000         99.000000       99.000000        99.000000   \n",
              "mean          0.344201          0.197340        0.408557         0.312471   \n",
              "std           0.105285          0.099622        0.070649         0.071823   \n",
              "min           0.151610          0.079527        0.253677         0.208905   \n",
              "25%           0.265800          0.135114        0.354499         0.262842   \n",
              "50%           0.343485          0.164238        0.409348         0.290314   \n",
              "75%           0.410657          0.241728        0.458558         0.357877   \n",
              "max           0.647031          0.705439        0.594211         0.574820   \n",
              "\n",
              "       tune_maes1_test  tune_maes1_train  ...  tune_num_train  tune_num_test  \\\n",
              "count        99.000000         99.000000  ...       99.000000      99.000000   \n",
              "mean          0.417378          0.322951  ...      215.333333     223.666667   \n",
              "std           0.072884          0.070640  ...      119.680442     119.680442   \n",
              "min           0.260302          0.209456  ...       41.000000      23.000000   \n",
              "25%           0.359744          0.274418  ...       95.500000     113.500000   \n",
              "50%           0.423371          0.309582  ...      218.000000     221.000000   \n",
              "75%           0.474108          0.353576  ...      325.500000     343.500000   \n",
              "max           0.612159          0.579687  ...      416.000000     398.000000   \n",
              "\n",
              "       tune_num_labeled  tune_num_unlabeled  tune_pool_size  tune_max_iters  \\\n",
              "count         99.000000           99.000000       99.000000       99.000000   \n",
              "mean         104.646465          110.686869      124.181818      110.686869   \n",
              "std           88.652188           85.347626       88.402646       85.347626   \n",
              "min           20.000000           20.000000       20.000000       20.000000   \n",
              "25%           35.000000           39.500000       51.000000       39.500000   \n",
              "50%           78.000000           83.000000       98.000000       83.000000   \n",
              "75%          154.000000          163.500000      185.000000      163.500000   \n",
              "max          382.000000          312.000000      377.000000      312.000000   \n",
              "\n",
              "         tune_k1    tune_k2    tune_p1    tune_p2  \n",
              "count  99.000000  99.000000  99.000000  99.000000  \n",
              "mean    5.848485   5.888889   4.707071   3.868687  \n",
              "std     1.897171   2.132781   2.255390   2.141173  \n",
              "min     3.000000   3.000000   2.000000   1.000000  \n",
              "25%     4.000000   4.000000   2.000000   3.000000  \n",
              "50%     6.000000   5.000000   4.000000   3.000000  \n",
              "75%     7.000000   8.000000   6.000000   5.000000  \n",
              "max     9.000000   9.000000   8.000000   7.000000  \n",
              "\n",
              "[8 rows x 22 columns]"
            ]
          },
          "execution_count": 4,
          "metadata": {},
          "output_type": "execute_result"
        }
      ],
      "source": [
        "etc_tune.describe()"
      ]
    },
    {
      "attachments": {},
      "cell_type": "markdown",
      "metadata": {
        "id": "0O5vOOBitk7o"
      },
      "source": [
        "### Training Data & Training MSE"
      ]
    },
    {
      "cell_type": "code",
      "execution_count": 9,
      "metadata": {
        "colab": {
          "base_uri": "https://localhost:8080/",
          "height": 864
        },
        "id": "BbeFW1iosat2",
        "outputId": "5893f796-0600-431c-d2d4-3c48b4465a91"
      },
      "outputs": [
        {
          "data": {
            "image/png": "[encoded data removed]",
            "text/plain": [
              "<Figure size 640x480 with 1 Axes>"
            ]
          },
          "metadata": {},
          "output_type": "display_data"
        },
        {
          "name": "stdout",
          "output_type": "stream",
          "text": [
            "                            OLS Regression Results                            \n",
            "==============================================================================\n",
            "Dep. Variable:        tune_mses_train   R-squared:                       0.296\n",
            "Model:                            OLS   Adj. R-squared:                  0.289\n",
            "Method:                 Least Squares   F-statistic:                     40.83\n",
            "Date:                Sat, 29 Apr 2023   Prob (F-statistic):           5.78e-09\n",
            "Time:                        17:45:44   Log-Likelihood:                 121.94\n",
            "No. Observations:                  99   AIC:                            -239.9\n",
            "Df Residuals:                      97   BIC:                            -234.7\n",
            "Df Model:                           1                                         \n",
            "Covariance Type:            nonrobust                                         \n",
            "==================================================================================\n",
            "                     coef    std err          t      P>|t|      [0.025      0.975]\n",
            "----------------------------------------------------------------------------------\n",
            "const              0.2729      0.015     18.419      0.000       0.243       0.302\n",
            "tune_num_train    -0.0004   6.02e-05     -6.390      0.000      -0.001      -0.000\n",
            "==============================================================================\n",
            "Omnibus:                       25.550   Durbin-Watson:                   1.847\n",
            "Prob(Omnibus):                  0.000   Jarque-Bera (JB):               41.022\n",
            "Skew:                           1.120   Prob(JB):                     1.24e-09\n",
            "Kurtosis:                       5.219   Cond. No.                         508.\n",
            "==============================================================================\n",
            "\n",
            "Notes:\n",
            "[1] Standard Errors assume that the covariance matrix of the errors is correctly specified.\n"
          ]
        }
      ],
      "source": [
        "# Code based off of: \n",
        "  # https://matplotlib.org/stable/gallery/shapes_and_collections/scatter.html\n",
        "  # https://realpython.com/linear-regression-in-python/\n",
        "\n",
        "# set variables\n",
        "x = etc_tune['tune_num_train']\n",
        "y = etc_tune['tune_mses_train']\n",
        "\n",
        "# regression model\n",
        "slope, intercept, r, p, std_err = stats.linregress(x, y)\n",
        "def myfunc(x):\n",
        "  return slope * x + intercept\n",
        "mymodel = list(map(myfunc, x))\n",
        "\n",
        "# scatter plot\n",
        "plt.scatter(x, y)\n",
        "plt.plot(x, mymodel)\n",
        "plt.show()\n",
        "\n",
        "x = sm.add_constant(x)\n",
        "model = sm.OLS(y, x)\n",
        "results = model.fit()\n",
        "print(results.summary())"
      ]
    },
    {
      "attachments": {},
      "cell_type": "markdown",
      "metadata": {
        "id": "1oJo_E4buamo"
      },
      "source": [
        "### Training Data & Testing MSE"
      ]
    },
    {
      "cell_type": "code",
      "execution_count": 10,
      "metadata": {
        "colab": {
          "base_uri": "https://localhost:8080/",
          "height": 864
        },
        "id": "jKB6DnxuuRpn",
        "outputId": "3e754088-bbb4-4227-b10c-26d45e482cf6"
      },
      "outputs": [
        {
          "data": {
            "image/png": "[encoded data removed]",
            "text/plain": [
              "<Figure size 640x480 with 1 Axes>"
            ]
          },
          "metadata": {},
          "output_type": "display_data"
        },
        {
          "name": "stdout",
          "output_type": "stream",
          "text": [
            "                            OLS Regression Results                            \n",
            "==============================================================================\n",
            "Dep. Variable:         tune_mses_test   R-squared:                       0.400\n",
            "Model:                            OLS   Adj. R-squared:                  0.394\n",
            "Method:                 Least Squares   F-statistic:                     64.76\n",
            "Date:                Sat, 29 Apr 2023   Prob (F-statistic):           2.13e-12\n",
            "Time:                        17:46:17   Log-Likelihood:                 107.09\n",
            "No. Observations:                  99   AIC:                            -210.2\n",
            "Df Residuals:                      97   BIC:                            -205.0\n",
            "Df Model:                           1                                         \n",
            "Covariance Type:            nonrobust                                         \n",
            "==================================================================================\n",
            "                     coef    std err          t      P>|t|      [0.025      0.975]\n",
            "----------------------------------------------------------------------------------\n",
            "const              0.4567      0.017     26.536      0.000       0.423       0.491\n",
            "tune_num_train    -0.0006   6.99e-05     -8.047      0.000      -0.001      -0.000\n",
            "==============================================================================\n",
            "Omnibus:                       35.505   Durbin-Watson:                   1.795\n",
            "Prob(Omnibus):                  0.000   Jarque-Bera (JB):               80.338\n",
            "Skew:                           1.346   Prob(JB):                     3.59e-18\n",
            "Kurtosis:                       6.498   Cond. No.                         508.\n",
            "==============================================================================\n",
            "\n",
            "Notes:\n",
            "[1] Standard Errors assume that the covariance matrix of the errors is correctly specified.\n"
          ]
        }
      ],
      "source": [
        "# Code based off of: \n",
        "  # https://matplotlib.org/stable/gallery/shapes_and_collections/scatter.html\n",
        "  # https://realpython.com/linear-regression-in-python/\n",
        "\n",
        "x = etc_tune['tune_num_train']\n",
        "y = etc_tune['tune_mses_test']\n",
        "\n",
        "# regression model\n",
        "slope, intercept, r, p, std_err = stats.linregress(x, y)\n",
        "def myfunc(x):\n",
        "  return slope * x + intercept\n",
        "mymodel = list(map(myfunc, x))\n",
        "\n",
        "# scatter plot\n",
        "plt.scatter(x, y)\n",
        "plt.plot(x, mymodel)\n",
        "plt.show()\n",
        "\n",
        "x = sm.add_constant(x)\n",
        "model = sm.OLS(y, x)\n",
        "results = model.fit()\n",
        "print(results.summary())"
      ]
    },
    {
      "attachments": {},
      "cell_type": "markdown",
      "metadata": {
        "id": "haFhIP3nvJzJ"
      },
      "source": [
        "### Testing Data & Training MSE"
      ]
    },
    {
      "cell_type": "code",
      "execution_count": 11,
      "metadata": {
        "colab": {
          "base_uri": "https://localhost:8080/",
          "height": 864
        },
        "id": "2aPE7P5Yvbsy",
        "outputId": "11471fad-2c56-4adc-eab0-2046dcafae59"
      },
      "outputs": [
        {
          "data": {
            "image/png": "[encoded data removed]",
            "text/plain": [
              "<Figure size 640x480 with 1 Axes>"
            ]
          },
          "metadata": {},
          "output_type": "display_data"
        },
        {
          "name": "stdout",
          "output_type": "stream",
          "text": [
            "                            OLS Regression Results                            \n",
            "==============================================================================\n",
            "Dep. Variable:        tune_mses_train   R-squared:                       0.296\n",
            "Model:                            OLS   Adj. R-squared:                  0.289\n",
            "Method:                 Least Squares   F-statistic:                     40.83\n",
            "Date:                Sat, 29 Apr 2023   Prob (F-statistic):           5.78e-09\n",
            "Time:                        17:46:47   Log-Likelihood:                 121.94\n",
            "No. Observations:                  99   AIC:                            -239.9\n",
            "Df Residuals:                      97   BIC:                            -234.7\n",
            "Df Model:                           1                                         \n",
            "Covariance Type:            nonrobust                                         \n",
            "=================================================================================\n",
            "                    coef    std err          t      P>|t|      [0.025      0.975]\n",
            "---------------------------------------------------------------------------------\n",
            "const             0.1040      0.015      6.816      0.000       0.074       0.134\n",
            "tune_num_test     0.0004   6.02e-05      6.390      0.000       0.000       0.001\n",
            "==============================================================================\n",
            "Omnibus:                       25.550   Durbin-Watson:                   1.847\n",
            "Prob(Omnibus):                  0.000   Jarque-Bera (JB):               41.022\n",
            "Skew:                           1.120   Prob(JB):                     1.24e-09\n",
            "Kurtosis:                       5.219   Cond. No.                         539.\n",
            "==============================================================================\n",
            "\n",
            "Notes:\n",
            "[1] Standard Errors assume that the covariance matrix of the errors is correctly specified.\n"
          ]
        }
      ],
      "source": [
        "# Code based off of: \n",
        "  # https://matplotlib.org/stable/gallery/shapes_and_collections/scatter.html\n",
        "  # https://realpython.com/linear-regression-in-python/\n",
        "\n",
        "x = etc_tune['tune_num_test']\n",
        "y = etc_tune['tune_mses_train']\n",
        "\n",
        "# regression model\n",
        "slope, intercept, r, p, std_err = stats.linregress(x, y)\n",
        "def myfunc(x):\n",
        "  return slope * x + intercept\n",
        "mymodel = list(map(myfunc, x))\n",
        "\n",
        "# scatter plot\n",
        "plt.scatter(x, y)\n",
        "plt.plot(x, mymodel)\n",
        "plt.show()\n",
        "\n",
        "x = sm.add_constant(x)\n",
        "model = sm.OLS(y, x)\n",
        "results = model.fit()\n",
        "print(results.summary())"
      ]
    },
    {
      "attachments": {},
      "cell_type": "markdown",
      "metadata": {
        "id": "bnbyJGievb8m"
      },
      "source": [
        "### Testing Data & Testing MSE"
      ]
    },
    {
      "cell_type": "code",
      "execution_count": 12,
      "metadata": {
        "colab": {
          "base_uri": "https://localhost:8080/",
          "height": 864
        },
        "id": "o8Fw6BWQvwSK",
        "outputId": "3a197d2c-9c3b-47db-cdc5-756eb1cf3d95"
      },
      "outputs": [
        {
          "data": {
            "image/png": "[encoded data removed]",
            "text/plain": [
              "<Figure size 640x480 with 1 Axes>"
            ]
          },
          "metadata": {},
          "output_type": "display_data"
        },
        {
          "name": "stdout",
          "output_type": "stream",
          "text": [
            "                            OLS Regression Results                            \n",
            "==============================================================================\n",
            "Dep. Variable:         tune_mses_test   R-squared:                       0.400\n",
            "Model:                            OLS   Adj. R-squared:                  0.394\n",
            "Method:                 Least Squares   F-statistic:                     64.76\n",
            "Date:                Sat, 29 Apr 2023   Prob (F-statistic):           2.13e-12\n",
            "Time:                        17:47:30   Log-Likelihood:                 107.09\n",
            "No. Observations:                  99   AIC:                            -210.2\n",
            "Df Residuals:                      97   BIC:                            -205.0\n",
            "Df Model:                           1                                         \n",
            "Covariance Type:            nonrobust                                         \n",
            "=================================================================================\n",
            "                    coef    std err          t      P>|t|      [0.025      0.975]\n",
            "---------------------------------------------------------------------------------\n",
            "const             0.2096      0.018     11.826      0.000       0.174       0.245\n",
            "tune_num_test     0.0006   6.99e-05      8.047      0.000       0.000       0.001\n",
            "==============================================================================\n",
            "Omnibus:                       35.505   Durbin-Watson:                   1.795\n",
            "Prob(Omnibus):                  0.000   Jarque-Bera (JB):               80.338\n",
            "Skew:                           1.346   Prob(JB):                     3.59e-18\n",
            "Kurtosis:                       6.498   Cond. No.                         539.\n",
            "==============================================================================\n",
            "\n",
            "Notes:\n",
            "[1] Standard Errors assume that the covariance matrix of the errors is correctly specified.\n"
          ]
        }
      ],
      "source": [
        "# Code based off of: \n",
        "  # https://matplotlib.org/stable/gallery/shapes_and_collections/scatter.html\n",
        "  # https://realpython.com/linear-regression-in-python/\n",
        "\n",
        "x = etc_tune['tune_num_test']\n",
        "y = etc_tune['tune_mses_test']\n",
        "\n",
        "# regression model\n",
        "slope, intercept, r, p, std_err = stats.linregress(x, y)\n",
        "def myfunc(x):\n",
        "  return slope * x + intercept\n",
        "mymodel = list(map(myfunc, x))\n",
        "\n",
        "# scatter plot\n",
        "plt.scatter(x, y)\n",
        "plt.plot(x, mymodel)\n",
        "plt.show()\n",
        "\n",
        "x = sm.add_constant(x)\n",
        "model = sm.OLS(y, x)\n",
        "results = model.fit()\n",
        "print(results.summary())"
      ]
    },
    {
      "attachments": {},
      "cell_type": "markdown",
      "metadata": {
        "id": "Y2G0X_Ypxf_r"
      },
      "source": [
        "### Labeled Data & Training MSE"
      ]
    },
    {
      "cell_type": "code",
      "execution_count": 13,
      "metadata": {
        "colab": {
          "base_uri": "https://localhost:8080/",
          "height": 864
        },
        "id": "_yapW2AdvSOa",
        "outputId": "5580d677-785f-4c35-d3ee-a96a758b6002"
      },
      "outputs": [
        {
          "data": {
            "image/png": "[encoded data removed]",
            "text/plain": [
              "<Figure size 640x480 with 1 Axes>"
            ]
          },
          "metadata": {},
          "output_type": "display_data"
        },
        {
          "name": "stdout",
          "output_type": "stream",
          "text": [
            "                            OLS Regression Results                            \n",
            "==============================================================================\n",
            "Dep. Variable:        tune_mses_train   R-squared:                       0.232\n",
            "Model:                            OLS   Adj. R-squared:                  0.224\n",
            "Method:                 Least Squares   F-statistic:                     29.36\n",
            "Date:                Sat, 29 Apr 2023   Prob (F-statistic):           4.37e-07\n",
            "Time:                        17:47:47   Log-Likelihood:                 117.64\n",
            "No. Observations:                  99   AIC:                            -231.3\n",
            "Df Residuals:                      97   BIC:                            -226.1\n",
            "Df Model:                           1                                         \n",
            "Covariance Type:            nonrobust                                         \n",
            "====================================================================================\n",
            "                       coef    std err          t      P>|t|      [0.025      0.975]\n",
            "------------------------------------------------------------------------------------\n",
            "const                0.2382      0.012     20.500      0.000       0.215       0.261\n",
            "tune_num_labeled    -0.0005   8.49e-05     -5.419      0.000      -0.001      -0.000\n",
            "==============================================================================\n",
            "Omnibus:                       36.677   Durbin-Watson:                   2.118\n",
            "Prob(Omnibus):                  0.000   Jarque-Bera (JB):               77.570\n",
            "Skew:                           1.438   Prob(JB):                     1.43e-17\n",
            "Kurtosis:                       6.246   Cond. No.                         212.\n",
            "==============================================================================\n",
            "\n",
            "Notes:\n",
            "[1] Standard Errors assume that the covariance matrix of the errors is correctly specified.\n"
          ]
        }
      ],
      "source": [
        "# Code based off of: \n",
        "  # https://matplotlib.org/stable/gallery/shapes_and_collections/scatter.html\n",
        "  # https://realpython.com/linear-regression-in-python/\n",
        "\n",
        "x = etc_tune['tune_num_labeled']\n",
        "y = etc_tune['tune_mses_train']\n",
        "\n",
        "# regression model\n",
        "slope, intercept, r, p, std_err = stats.linregress(x, y)\n",
        "def myfunc(x):\n",
        "  return slope * x + intercept\n",
        "mymodel = list(map(myfunc, x))\n",
        "\n",
        "# scatter plot\n",
        "plt.scatter(x, y)\n",
        "plt.plot(x, mymodel)\n",
        "plt.show()\n",
        "\n",
        "x = sm.add_constant(x)\n",
        "model = sm.OLS(y, x)\n",
        "results = model.fit()\n",
        "print(results.summary())"
      ]
    },
    {
      "attachments": {},
      "cell_type": "markdown",
      "metadata": {
        "id": "c-0E6cxWx1CN"
      },
      "source": [
        "### Labeled Data & Testing MSE"
      ]
    },
    {
      "cell_type": "code",
      "execution_count": 15,
      "metadata": {
        "colab": {
          "base_uri": "https://localhost:8080/",
          "height": 864
        },
        "id": "6bmoiiKFwvuI",
        "outputId": "86e3f48a-0bc3-40a5-9b9d-2d59d7b3e2ca"
      },
      "outputs": [
        {
          "data": {
            "image/png": "[encoded data removed]",
            "text/plain": [
              "<Figure size 640x480 with 1 Axes>"
            ]
          },
          "metadata": {},
          "output_type": "display_data"
        },
        {
          "name": "stdout",
          "output_type": "stream",
          "text": [
            "                            OLS Regression Results                            \n",
            "==============================================================================\n",
            "Dep. Variable:         tune_mses_test   R-squared:                       0.500\n",
            "Model:                            OLS   Adj. R-squared:                  0.495\n",
            "Method:                 Least Squares   F-statistic:                     97.10\n",
            "Date:                Mon, 01 May 2023   Prob (F-statistic):           2.77e-16\n",
            "Time:                        16:17:46   Log-Likelihood:                 116.11\n",
            "No. Observations:                  99   AIC:                            -228.2\n",
            "Df Residuals:                      97   BIC:                            -223.0\n",
            "Df Model:                           1                                         \n",
            "Covariance Type:            nonrobust                                         \n",
            "====================================================================================\n",
            "                       coef    std err          t      P>|t|      [0.025      0.975]\n",
            "------------------------------------------------------------------------------------\n",
            "const                0.4244      0.012     35.972      0.000       0.401       0.448\n",
            "tune_num_labeled    -0.0008   8.62e-05     -9.854      0.000      -0.001      -0.001\n",
            "==============================================================================\n",
            "Omnibus:                        6.785   Durbin-Watson:                   2.002\n",
            "Prob(Omnibus):                  0.034   Jarque-Bera (JB):                7.427\n",
            "Skew:                           0.400   Prob(JB):                       0.0244\n",
            "Kurtosis:                       4.077   Cond. No.                         212.\n",
            "==============================================================================\n",
            "\n",
            "Notes:\n",
            "[1] Standard Errors assume that the covariance matrix of the errors is correctly specified.\n"
          ]
        }
      ],
      "source": [
        "# Code based off of: \n",
        "  # https://matplotlib.org/stable/gallery/shapes_and_collections/scatter.html\n",
        "  # https://realpython.com/linear-regression-in-python/\n",
        "\n",
        "x = etc_tune['tune_num_labeled']\n",
        "y = etc_tune['tune_mses_test']\n",
        "\n",
        "# regression model\n",
        "slope, intercept, r, p, std_err = stats.linregress(x, y)\n",
        "def myfunc(x):\n",
        "  return slope * x + intercept\n",
        "mymodel = list(map(myfunc, x))\n",
        "\n",
        "# scatter plot\n",
        "plt.scatter(x, y)\n",
        "plt.plot(x, mymodel)\n",
        "plt.show()\n",
        "\n",
        "x = sm.add_constant(x)\n",
        "model = sm.OLS(y, x)\n",
        "results = model.fit()\n",
        "print(results.summary())"
      ]
    },
    {
      "cell_type": "code",
      "execution_count": 11,
      "metadata": {
        "id": "V7zQIOMdGQw3"
      },
      "outputs": [],
      "source": [
        "etc_tune['log_labeled'] = np.log(etc_tune['tune_num_labeled'])"
      ]
    },
    {
      "cell_type": "code",
      "execution_count": 12,
      "metadata": {
        "colab": {
          "base_uri": "https://localhost:8080/",
          "height": 488
        },
        "id": "Dp1ISMPOGe7q",
        "outputId": "dd461c2f-bd65-4df1-91d5-2738ab281867"
      },
      "outputs": [
        {
          "data": {
            "text/html": [
              "\n",
              "  <div id=\"df-5d8a1f06-fb92-449f-9f04-c1d4fe0d4d86\">\n",
              "    <div class=\"colab-df-container\">\n",
              "      <div>\n",
              "<style scoped>\n",
              "    .dataframe tbody tr th:only-of-type {\n",
              "        vertical-align: middle;\n",
              "    }\n",
              "\n",
              "    .dataframe tbody tr th {\n",
              "        vertical-align: top;\n",
              "    }\n",
              "\n",
              "    .dataframe thead th {\n",
              "        text-align: right;\n",
              "    }\n",
              "</style>\n",
              "<table border=\"1\" class=\"dataframe\">\n",
              "  <thead>\n",
              "    <tr style=\"text-align: right;\">\n",
              "      <th></th>\n",
              "      <th>tune_mses_test</th>\n",
              "      <th>tune_mses_train</th>\n",
              "      <th>tune_mses1_test</th>\n",
              "      <th>tune_mses1_train</th>\n",
              "      <th>tune_mses2_test</th>\n",
              "      <th>tune_mses2_train</th>\n",
              "      <th>tune_maes_test</th>\n",
              "      <th>tune_maes_train</th>\n",
              "      <th>tune_maes1_test</th>\n",
              "      <th>tune_maes1_train</th>\n",
              "      <th>...</th>\n",
              "      <th>tune_num_test</th>\n",
              "      <th>tune_num_labeled</th>\n",
              "      <th>tune_num_unlabeled</th>\n",
              "      <th>tune_pool_size</th>\n",
              "      <th>tune_max_iters</th>\n",
              "      <th>tune_k1</th>\n",
              "      <th>tune_k2</th>\n",
              "      <th>tune_p1</th>\n",
              "      <th>tune_p2</th>\n",
              "      <th>log_labeled</th>\n",
              "    </tr>\n",
              "  </thead>\n",
              "  <tbody>\n",
              "    <tr>\n",
              "      <th>0</th>\n",
              "      <td>0.317514</td>\n",
              "      <td>0.115149</td>\n",
              "      <td>0.339100</td>\n",
              "      <td>0.137327</td>\n",
              "      <td>0.313306</td>\n",
              "      <td>0.105453</td>\n",
              "      <td>0.397343</td>\n",
              "      <td>0.271736</td>\n",
              "      <td>0.406163</td>\n",
              "      <td>0.291108</td>\n",
              "      <td>...</td>\n",
              "      <td>327</td>\n",
              "      <td>71</td>\n",
              "      <td>41</td>\n",
              "      <td>61</td>\n",
              "      <td>41</td>\n",
              "      <td>6</td>\n",
              "      <td>4</td>\n",
              "      <td>4</td>\n",
              "      <td>7</td>\n",
              "      <td>4.262680</td>\n",
              "    </tr>\n",
              "    <tr>\n",
              "      <th>1</th>\n",
              "      <td>0.210208</td>\n",
              "      <td>0.105927</td>\n",
              "      <td>0.201596</td>\n",
              "      <td>0.140204</td>\n",
              "      <td>0.254877</td>\n",
              "      <td>0.096162</td>\n",
              "      <td>0.322521</td>\n",
              "      <td>0.227953</td>\n",
              "      <td>0.321140</td>\n",
              "      <td>0.261825</td>\n",
              "      <td>...</td>\n",
              "      <td>213</td>\n",
              "      <td>179</td>\n",
              "      <td>47</td>\n",
              "      <td>134</td>\n",
              "      <td>47</td>\n",
              "      <td>4</td>\n",
              "      <td>3</td>\n",
              "      <td>2</td>\n",
              "      <td>1</td>\n",
              "      <td>5.187386</td>\n",
              "    </tr>\n",
              "    <tr>\n",
              "      <th>2</th>\n",
              "      <td>0.273899</td>\n",
              "      <td>0.122513</td>\n",
              "      <td>0.286615</td>\n",
              "      <td>0.129330</td>\n",
              "      <td>0.264329</td>\n",
              "      <td>0.118103</td>\n",
              "      <td>0.342134</td>\n",
              "      <td>0.245226</td>\n",
              "      <td>0.357408</td>\n",
              "      <td>0.251759</td>\n",
              "      <td>...</td>\n",
              "      <td>36</td>\n",
              "      <td>382</td>\n",
              "      <td>21</td>\n",
              "      <td>377</td>\n",
              "      <td>21</td>\n",
              "      <td>7</td>\n",
              "      <td>7</td>\n",
              "      <td>6</td>\n",
              "      <td>3</td>\n",
              "      <td>5.945421</td>\n",
              "    </tr>\n",
              "    <tr>\n",
              "      <th>3</th>\n",
              "      <td>0.192332</td>\n",
              "      <td>0.136173</td>\n",
              "      <td>0.192317</td>\n",
              "      <td>0.161391</td>\n",
              "      <td>0.223849</td>\n",
              "      <td>0.126195</td>\n",
              "      <td>0.286649</td>\n",
              "      <td>0.276660</td>\n",
              "      <td>0.292805</td>\n",
              "      <td>0.287867</td>\n",
              "      <td>...</td>\n",
              "      <td>139</td>\n",
              "      <td>80</td>\n",
              "      <td>220</td>\n",
              "      <td>162</td>\n",
              "      <td>220</td>\n",
              "      <td>3</td>\n",
              "      <td>3</td>\n",
              "      <td>4</td>\n",
              "      <td>3</td>\n",
              "      <td>4.382027</td>\n",
              "    </tr>\n",
              "    <tr>\n",
              "      <th>4</th>\n",
              "      <td>0.314909</td>\n",
              "      <td>0.216389</td>\n",
              "      <td>0.327135</td>\n",
              "      <td>0.199028</td>\n",
              "      <td>0.324037</td>\n",
              "      <td>0.245980</td>\n",
              "      <td>0.376207</td>\n",
              "      <td>0.366629</td>\n",
              "      <td>0.394659</td>\n",
              "      <td>0.347137</td>\n",
              "      <td>...</td>\n",
              "      <td>80</td>\n",
              "      <td>54</td>\n",
              "      <td>305</td>\n",
              "      <td>284</td>\n",
              "      <td>305</td>\n",
              "      <td>3</td>\n",
              "      <td>9</td>\n",
              "      <td>8</td>\n",
              "      <td>7</td>\n",
              "      <td>3.988984</td>\n",
              "    </tr>\n",
              "    <tr>\n",
              "      <th>...</th>\n",
              "      <td>...</td>\n",
              "      <td>...</td>\n",
              "      <td>...</td>\n",
              "      <td>...</td>\n",
              "      <td>...</td>\n",
              "      <td>...</td>\n",
              "      <td>...</td>\n",
              "      <td>...</td>\n",
              "      <td>...</td>\n",
              "      <td>...</td>\n",
              "      <td>...</td>\n",
              "      <td>...</td>\n",
              "      <td>...</td>\n",
              "      <td>...</td>\n",
              "      <td>...</td>\n",
              "      <td>...</td>\n",
              "      <td>...</td>\n",
              "      <td>...</td>\n",
              "      <td>...</td>\n",
              "      <td>...</td>\n",
              "      <td>...</td>\n",
              "    </tr>\n",
              "    <tr>\n",
              "      <th>94</th>\n",
              "      <td>0.368393</td>\n",
              "      <td>0.135142</td>\n",
              "      <td>0.375881</td>\n",
              "      <td>0.164276</td>\n",
              "      <td>0.379807</td>\n",
              "      <td>0.120476</td>\n",
              "      <td>0.440453</td>\n",
              "      <td>0.290314</td>\n",
              "      <td>0.443736</td>\n",
              "      <td>0.314177</td>\n",
              "      <td>...</td>\n",
              "      <td>194</td>\n",
              "      <td>82</td>\n",
              "      <td>163</td>\n",
              "      <td>46</td>\n",
              "      <td>163</td>\n",
              "      <td>7</td>\n",
              "      <td>4</td>\n",
              "      <td>2</td>\n",
              "      <td>5</td>\n",
              "      <td>4.406719</td>\n",
              "    </tr>\n",
              "    <tr>\n",
              "      <th>95</th>\n",
              "      <td>0.304622</td>\n",
              "      <td>0.156101</td>\n",
              "      <td>0.319806</td>\n",
              "      <td>0.187567</td>\n",
              "      <td>0.308752</td>\n",
              "      <td>0.143919</td>\n",
              "      <td>0.381285</td>\n",
              "      <td>0.278747</td>\n",
              "      <td>0.390190</td>\n",
              "      <td>0.310147</td>\n",
              "      <td>...</td>\n",
              "      <td>194</td>\n",
              "      <td>151</td>\n",
              "      <td>94</td>\n",
              "      <td>164</td>\n",
              "      <td>94</td>\n",
              "      <td>8</td>\n",
              "      <td>4</td>\n",
              "      <td>8</td>\n",
              "      <td>3</td>\n",
              "      <td>5.017280</td>\n",
              "    </tr>\n",
              "    <tr>\n",
              "      <th>96</th>\n",
              "      <td>0.336682</td>\n",
              "      <td>0.140130</td>\n",
              "      <td>0.359677</td>\n",
              "      <td>0.188257</td>\n",
              "      <td>0.349139</td>\n",
              "      <td>0.117937</td>\n",
              "      <td>0.434470</td>\n",
              "      <td>0.272745</td>\n",
              "      <td>0.445519</td>\n",
              "      <td>0.310314</td>\n",
              "      <td>...</td>\n",
              "      <td>278</td>\n",
              "      <td>80</td>\n",
              "      <td>81</td>\n",
              "      <td>44</td>\n",
              "      <td>81</td>\n",
              "      <td>6</td>\n",
              "      <td>4</td>\n",
              "      <td>4</td>\n",
              "      <td>1</td>\n",
              "      <td>4.382027</td>\n",
              "    </tr>\n",
              "    <tr>\n",
              "      <th>97</th>\n",
              "      <td>0.267158</td>\n",
              "      <td>0.112606</td>\n",
              "      <td>0.266507</td>\n",
              "      <td>0.149971</td>\n",
              "      <td>0.288064</td>\n",
              "      <td>0.103704</td>\n",
              "      <td>0.368692</td>\n",
              "      <td>0.228606</td>\n",
              "      <td>0.366123</td>\n",
              "      <td>0.270655</td>\n",
              "      <td>...</td>\n",
              "      <td>23</td>\n",
              "      <td>380</td>\n",
              "      <td>36</td>\n",
              "      <td>310</td>\n",
              "      <td>36</td>\n",
              "      <td>9</td>\n",
              "      <td>5</td>\n",
              "      <td>6</td>\n",
              "      <td>1</td>\n",
              "      <td>5.940171</td>\n",
              "    </tr>\n",
              "    <tr>\n",
              "      <th>98</th>\n",
              "      <td>0.379171</td>\n",
              "      <td>0.110950</td>\n",
              "      <td>0.394079</td>\n",
              "      <td>0.140732</td>\n",
              "      <td>0.377848</td>\n",
              "      <td>0.095835</td>\n",
              "      <td>0.446514</td>\n",
              "      <td>0.244263</td>\n",
              "      <td>0.457130</td>\n",
              "      <td>0.273584</td>\n",
              "      <td>...</td>\n",
              "      <td>330</td>\n",
              "      <td>37</td>\n",
              "      <td>72</td>\n",
              "      <td>44</td>\n",
              "      <td>72</td>\n",
              "      <td>6</td>\n",
              "      <td>3</td>\n",
              "      <td>6</td>\n",
              "      <td>7</td>\n",
              "      <td>3.610918</td>\n",
              "    </tr>\n",
              "  </tbody>\n",
              "</table>\n",
              "<p>99 rows × 23 columns</p>\n",
              "</div>\n",
              "      <button class=\"colab-df-convert\" onclick=\"convertToInteractive('df-5d8a1f06-fb92-449f-9f04-c1d4fe0d4d86')\"\n",
              "              title=\"Convert this dataframe to an interactive table.\"\n",
              "              style=\"display:none;\">\n",
              "        \n",
              "  <svg xmlns=\"http://www.w3.org/2000/svg\" height=\"24px\"viewBox=\"0 0 24 24\"\n",
              "       width=\"24px\">\n",
              "    <path d=\"M0 0h24v24H0V0z\" fill=\"none\"/>\n",
              "    <path d=\"M18.56 5.44l.94 2.06.94-2.06 2.06-.94-2.06-.94-.94-2.06-.94 2.06-2.06.94zm-11 1L8.5 8.5l.94-2.06 2.06-.94-2.06-.94L8.5 2.5l-.94 2.06-2.06.94zm10 10l.94 2.06.94-2.06 2.06-.94-2.06-.94-.94-2.06-.94 2.06-2.06.94z\"/><path d=\"M17.41 7.96l-1.37-1.37c-.4-.4-.92-.59-1.43-.59-.52 0-1.04.2-1.43.59L10.3 9.45l-7.72 7.72c-.78.78-.78 2.05 0 2.83L4 21.41c.39.39.9.59 1.41.59.51 0 1.02-.2 1.41-.59l7.78-7.78 2.81-2.81c.8-.78.8-2.07 0-2.86zM5.41 20L4 18.59l7.72-7.72 1.47 1.35L5.41 20z\"/>\n",
              "  </svg>\n",
              "      </button>\n",
              "      \n",
              "  <style>\n",
              "    .colab-df-container {\n",
              "      display:flex;\n",
              "      flex-wrap:wrap;\n",
              "      gap: 12px;\n",
              "    }\n",
              "\n",
              "    .colab-df-convert {\n",
              "      background-color: #E8F0FE;\n",
              "      border: none;\n",
              "      border-radius: 50%;\n",
              "      cursor: pointer;\n",
              "      display: none;\n",
              "      fill: #1967D2;\n",
              "      height: 32px;\n",
              "      padding: 0 0 0 0;\n",
              "      width: 32px;\n",
              "    }\n",
              "\n",
              "    .colab-df-convert:hover {\n",
              "      background-color: #E2EBFA;\n",
              "      box-shadow: 0px 1px 2px rgba(60, 64, 67, 0.3), 0px 1px 3px 1px rgba(60, 64, 67, 0.15);\n",
              "      fill: #174EA6;\n",
              "    }\n",
              "\n",
              "    [theme=dark] .colab-df-convert {\n",
              "      background-color: #3B4455;\n",
              "      fill: #D2E3FC;\n",
              "    }\n",
              "\n",
              "    [theme=dark] .colab-df-convert:hover {\n",
              "      background-color: #434B5C;\n",
              "      box-shadow: 0px 1px 3px 1px rgba(0, 0, 0, 0.15);\n",
              "      filter: drop-shadow(0px 1px 2px rgba(0, 0, 0, 0.3));\n",
              "      fill: #FFFFFF;\n",
              "    }\n",
              "  </style>\n",
              "\n",
              "      <script>\n",
              "        const buttonEl =\n",
              "          document.querySelector('#df-5d8a1f06-fb92-449f-9f04-c1d4fe0d4d86 button.colab-df-convert');\n",
              "        buttonEl.style.display =\n",
              "          google.colab.kernel.accessAllowed ? 'block' : 'none';\n",
              "\n",
              "        async function convertToInteractive(key) {\n",
              "          const element = document.querySelector('#df-5d8a1f06-fb92-449f-9f04-c1d4fe0d4d86');\n",
              "          const dataTable =\n",
              "            await google.colab.kernel.invokeFunction('convertToInteractive',\n",
              "                                                     [key], {});\n",
              "          if (!dataTable) return;\n",
              "\n",
              "          const docLinkHtml = 'Like what you see? Visit the ' +\n",
              "            '<a target=\"_blank\" href=https://colab.research.google.com/notebooks/data_table.ipynb>data table notebook</a>'\n",
              "            + ' to learn more about interactive tables.';\n",
              "          element.innerHTML = '';\n",
              "          dataTable['output_type'] = 'display_data';\n",
              "          await google.colab.output.renderOutput(dataTable, element);\n",
              "          const docLink = document.createElement('div');\n",
              "          docLink.innerHTML = docLinkHtml;\n",
              "          element.appendChild(docLink);\n",
              "        }\n",
              "      </script>\n",
              "    </div>\n",
              "  </div>\n",
              "  "
            ],
            "text/plain": [
              "    tune_mses_test  tune_mses_train  tune_mses1_test  tune_mses1_train  \\\n",
              "0         0.317514         0.115149         0.339100          0.137327   \n",
              "1         0.210208         0.105927         0.201596          0.140204   \n",
              "2         0.273899         0.122513         0.286615          0.129330   \n",
              "3         0.192332         0.136173         0.192317          0.161391   \n",
              "4         0.314909         0.216389         0.327135          0.199028   \n",
              "..             ...              ...              ...               ...   \n",
              "94        0.368393         0.135142         0.375881          0.164276   \n",
              "95        0.304622         0.156101         0.319806          0.187567   \n",
              "96        0.336682         0.140130         0.359677          0.188257   \n",
              "97        0.267158         0.112606         0.266507          0.149971   \n",
              "98        0.379171         0.110950         0.394079          0.140732   \n",
              "\n",
              "    tune_mses2_test  tune_mses2_train  tune_maes_test  tune_maes_train  \\\n",
              "0          0.313306          0.105453        0.397343         0.271736   \n",
              "1          0.254877          0.096162        0.322521         0.227953   \n",
              "2          0.264329          0.118103        0.342134         0.245226   \n",
              "3          0.223849          0.126195        0.286649         0.276660   \n",
              "4          0.324037          0.245980        0.376207         0.366629   \n",
              "..              ...               ...             ...              ...   \n",
              "94         0.379807          0.120476        0.440453         0.290314   \n",
              "95         0.308752          0.143919        0.381285         0.278747   \n",
              "96         0.349139          0.117937        0.434470         0.272745   \n",
              "97         0.288064          0.103704        0.368692         0.228606   \n",
              "98         0.377848          0.095835        0.446514         0.244263   \n",
              "\n",
              "    tune_maes1_test  tune_maes1_train  ...  tune_num_test  tune_num_labeled  \\\n",
              "0          0.406163          0.291108  ...            327                71   \n",
              "1          0.321140          0.261825  ...            213               179   \n",
              "2          0.357408          0.251759  ...             36               382   \n",
              "3          0.292805          0.287867  ...            139                80   \n",
              "4          0.394659          0.347137  ...             80                54   \n",
              "..              ...               ...  ...            ...               ...   \n",
              "94         0.443736          0.314177  ...            194                82   \n",
              "95         0.390190          0.310147  ...            194               151   \n",
              "96         0.445519          0.310314  ...            278                80   \n",
              "97         0.366123          0.270655  ...             23               380   \n",
              "98         0.457130          0.273584  ...            330                37   \n",
              "\n",
              "    tune_num_unlabeled  tune_pool_size  tune_max_iters  tune_k1  tune_k2  \\\n",
              "0                   41              61              41        6        4   \n",
              "1                   47             134              47        4        3   \n",
              "2                   21             377              21        7        7   \n",
              "3                  220             162             220        3        3   \n",
              "4                  305             284             305        3        9   \n",
              "..                 ...             ...             ...      ...      ...   \n",
              "94                 163              46             163        7        4   \n",
              "95                  94             164              94        8        4   \n",
              "96                  81              44              81        6        4   \n",
              "97                  36             310              36        9        5   \n",
              "98                  72              44              72        6        3   \n",
              "\n",
              "    tune_p1  tune_p2  log_labeled  \n",
              "0         4        7     4.262680  \n",
              "1         2        1     5.187386  \n",
              "2         6        3     5.945421  \n",
              "3         4        3     4.382027  \n",
              "4         8        7     3.988984  \n",
              "..      ...      ...          ...  \n",
              "94        2        5     4.406719  \n",
              "95        8        3     5.017280  \n",
              "96        4        1     4.382027  \n",
              "97        6        1     5.940171  \n",
              "98        6        7     3.610918  \n",
              "\n",
              "[99 rows x 23 columns]"
            ]
          },
          "execution_count": 12,
          "metadata": {},
          "output_type": "execute_result"
        }
      ],
      "source": [
        "etc_tune"
      ]
    },
    {
      "cell_type": "code",
      "execution_count": 22,
      "metadata": {
        "colab": {
          "base_uri": "https://localhost:8080/",
          "height": 906
        },
        "id": "2PyIwgcsFTgv",
        "outputId": "0acd8a71-e643-4fc7-9084-50e61b5b0e39"
      },
      "outputs": [
        {
          "data": {
            "image/png": "[encoded data removed]",
            "text/plain": [
              "<Figure size 640x480 with 1 Axes>"
            ]
          },
          "metadata": {},
          "output_type": "display_data"
        },
        {
          "name": "stdout",
          "output_type": "stream",
          "text": [
            "                            OLS Regression Results                            \n",
            "==============================================================================\n",
            "Dep. Variable:         tune_mses_test   R-squared:                       0.662\n",
            "Model:                            OLS   Adj. R-squared:                  0.658\n",
            "Method:                 Least Squares   F-statistic:                     189.9\n",
            "Date:                Mon, 01 May 2023   Prob (F-statistic):           1.42e-24\n",
            "Time:                        16:49:59   Log-Likelihood:                 135.46\n",
            "No. Observations:                  99   AIC:                            -266.9\n",
            "Df Residuals:                      97   BIC:                            -261.7\n",
            "Df Model:                           1                                         \n",
            "Covariance Type:            nonrobust                                         \n",
            "===============================================================================\n",
            "                  coef    std err          t      P>|t|      [0.025      0.975]\n",
            "-------------------------------------------------------------------------------\n",
            "const           0.7742      0.032     23.864      0.000       0.710       0.839\n",
            "log_labeled    -0.1019      0.007    -13.781      0.000      -0.117      -0.087\n",
            "==============================================================================\n",
            "Omnibus:                        2.588   Durbin-Watson:                   1.790\n",
            "Prob(Omnibus):                  0.274   Jarque-Bera (JB):                2.159\n",
            "Skew:                           0.156   Prob(JB):                        0.340\n",
            "Kurtosis:                       3.653   Cond. No.                         23.9\n",
            "==============================================================================\n",
            "\n",
            "Notes:\n",
            "[1] Standard Errors assume that the covariance matrix of the errors is correctly specified.\n"
          ]
        }
      ],
      "source": [
        "x = etc_tune['log_labeled']\n",
        "y = etc_tune['tune_mses_test']\n",
        "\n",
        "# regression model\n",
        "slope, intercept, r, p, std_err = stats.linregress(x, y)\n",
        "def myfunc(x):\n",
        "  return slope * x + intercept\n",
        "mymodel = list(map(myfunc, x))\n",
        "\n",
        "# scatter plot\n",
        "plt.scatter(x, y)\n",
        "plt.plot(x, mymodel)\n",
        "plt.title(\"Testing MSE and Log Labeled Points\") #title\n",
        "plt.xlabel(\"Log Number of Labeled points\") #x label\n",
        "plt.ylabel(\"Testing MSE\") #y label\n",
        "plt.show()\n",
        "\n",
        "x = sm.add_constant(x)\n",
        "model = sm.OLS(y, x)\n",
        "results = model.fit()\n",
        "print(results.summary())"
      ]
    },
    {
      "attachments": {},
      "cell_type": "markdown",
      "metadata": {
        "id": "Iwo5y09Jyo1Y"
      },
      "source": [
        "### Unlabeled Data & Training MSE"
      ]
    },
    {
      "cell_type": "code",
      "execution_count": 15,
      "metadata": {
        "colab": {
          "base_uri": "https://localhost:8080/",
          "height": 864
        },
        "id": "s-WT_vCDzShW",
        "outputId": "ec80bc04-89e0-4fbb-8cb1-1dc9cfe7dd92"
      },
      "outputs": [
        {
          "data": {
            "image/png": "[encoded data removed]",
            "text/plain": [
              "<Figure size 640x480 with 1 Axes>"
            ]
          },
          "metadata": {},
          "output_type": "display_data"
        },
        {
          "name": "stdout",
          "output_type": "stream",
          "text": [
            "                            OLS Regression Results                            \n",
            "==============================================================================\n",
            "Dep. Variable:        tune_mses_train   R-squared:                       0.069\n",
            "Model:                            OLS   Adj. R-squared:                  0.059\n",
            "Method:                 Least Squares   F-statistic:                     7.178\n",
            "Date:                Sat, 29 Apr 2023   Prob (F-statistic):            0.00867\n",
            "Time:                        17:48:51   Log-Likelihood:                 108.08\n",
            "No. Observations:                  99   AIC:                            -212.2\n",
            "Df Residuals:                      97   BIC:                            -207.0\n",
            "Df Model:                           1                                         \n",
            "Covariance Type:            nonrobust                                         \n",
            "======================================================================================\n",
            "                         coef    std err          t      P>|t|      [0.025      0.975]\n",
            "--------------------------------------------------------------------------------------\n",
            "const                  0.2188      0.014     16.152      0.000       0.192       0.246\n",
            "tune_num_unlabeled    -0.0003   9.71e-05     -2.679      0.009      -0.000   -6.74e-05\n",
            "==============================================================================\n",
            "Omnibus:                       32.770   Durbin-Watson:                   1.806\n",
            "Prob(Omnibus):                  0.000   Jarque-Bera (JB):               56.345\n",
            "Skew:                           1.412   Prob(JB):                     5.82e-13\n",
            "Kurtosis:                       5.384   Cond. No.                         229.\n",
            "==============================================================================\n",
            "\n",
            "Notes:\n",
            "[1] Standard Errors assume that the covariance matrix of the errors is correctly specified.\n"
          ]
        }
      ],
      "source": [
        "# Code based off of: \n",
        "  # https://matplotlib.org/stable/gallery/shapes_and_collections/scatter.html\n",
        "  # https://realpython.com/linear-regression-in-python/\n",
        "\n",
        "x = etc_tune['tune_num_unlabeled']\n",
        "y = etc_tune['tune_mses_train']\n",
        "\n",
        "# regression model\n",
        "slope, intercept, r, p, std_err = stats.linregress(x, y)\n",
        "def myfunc(x):\n",
        "  return slope * x + intercept\n",
        "mymodel = list(map(myfunc, x))\n",
        "\n",
        "# scatter plot\n",
        "plt.scatter(x, y)\n",
        "plt.plot(x, mymodel)\n",
        "plt.show()\n",
        "\n",
        "x = sm.add_constant(x)\n",
        "model = sm.OLS(y, x)\n",
        "results = model.fit()\n",
        "print(results.summary())"
      ]
    },
    {
      "attachments": {},
      "cell_type": "markdown",
      "metadata": {
        "id": "bO7V9EDK03iK"
      },
      "source": [
        "### Unlabeled Data & Testing MSE"
      ]
    },
    {
      "cell_type": "code",
      "execution_count": 16,
      "metadata": {
        "colab": {
          "base_uri": "https://localhost:8080/",
          "height": 864
        },
        "id": "pB1jBwtF054j",
        "outputId": "f00e7b6f-3a58-4680-f9db-b04f59fc7d92"
      },
      "outputs": [
        {
          "data": {
            "image/png": "[encoded data removed]",
            "text/plain": [
              "<Figure size 640x480 with 1 Axes>"
            ]
          },
          "metadata": {},
          "output_type": "display_data"
        },
        {
          "name": "stdout",
          "output_type": "stream",
          "text": [
            "                            OLS Regression Results                            \n",
            "==============================================================================\n",
            "Dep. Variable:         tune_mses_test   R-squared:                       0.023\n",
            "Model:                            OLS   Adj. R-squared:                  0.013\n",
            "Method:                 Least Squares   F-statistic:                     2.312\n",
            "Date:                Sat, 29 Apr 2023   Prob (F-statistic):              0.132\n",
            "Time:                        17:49:27   Log-Likelihood:                 82.941\n",
            "No. Observations:                  99   AIC:                            -161.9\n",
            "Df Residuals:                      97   BIC:                            -156.7\n",
            "Df Model:                           1                                         \n",
            "Covariance Type:            nonrobust                                         \n",
            "======================================================================================\n",
            "                         coef    std err          t      P>|t|      [0.025      0.975]\n",
            "--------------------------------------------------------------------------------------\n",
            "const                  0.3566      0.017     20.418      0.000       0.322       0.391\n",
            "tune_num_unlabeled    -0.0002      0.000     -1.521      0.132      -0.000    5.81e-05\n",
            "==============================================================================\n",
            "Omnibus:                        4.251   Durbin-Watson:                   1.935\n",
            "Prob(Omnibus):                  0.119   Jarque-Bera (JB):                3.656\n",
            "Skew:                           0.453   Prob(JB):                        0.161\n",
            "Kurtosis:                       3.257   Cond. No.                         229.\n",
            "==============================================================================\n",
            "\n",
            "Notes:\n",
            "[1] Standard Errors assume that the covariance matrix of the errors is correctly specified.\n"
          ]
        }
      ],
      "source": [
        "# Code based off of: \n",
        "  # https://matplotlib.org/stable/gallery/shapes_and_collections/scatter.html\n",
        "  # https://realpython.com/linear-regression-in-python/\n",
        "\n",
        "x = etc_tune['tune_num_unlabeled']\n",
        "y = etc_tune['tune_mses_test']\n",
        "\n",
        "# regression model\n",
        "slope, intercept, r, p, std_err = stats.linregress(x, y)\n",
        "def myfunc(x):\n",
        "  return slope * x + intercept\n",
        "mymodel = list(map(myfunc, x))\n",
        "\n",
        "# scatter plot\n",
        "plt.scatter(x, y)\n",
        "plt.plot(x, mymodel)\n",
        "plt.show()\n",
        "\n",
        "x = sm.add_constant(x)\n",
        "model = sm.OLS(y, x)\n",
        "results = model.fit()\n",
        "print(results.summary())"
      ]
    },
    {
      "attachments": {},
      "cell_type": "markdown",
      "metadata": {
        "id": "v5uLgZMpIpUU"
      },
      "source": [
        "### Pool Size & Training MSE"
      ]
    },
    {
      "cell_type": "code",
      "execution_count": 23,
      "metadata": {
        "colab": {
          "base_uri": "https://localhost:8080/",
          "height": 864
        },
        "id": "3UNDfd1sIoNC",
        "outputId": "08fe363a-4313-41ff-c197-85655baf9468"
      },
      "outputs": [
        {
          "data": {
            "image/png": "[encoded data removed]",
            "text/plain": [
              "<Figure size 640x480 with 1 Axes>"
            ]
          },
          "metadata": {},
          "output_type": "display_data"
        },
        {
          "name": "stdout",
          "output_type": "stream",
          "text": [
            "                            OLS Regression Results                            \n",
            "==============================================================================\n",
            "Dep. Variable:        tune_mses_train   R-squared:                       0.149\n",
            "Model:                            OLS   Adj. R-squared:                  0.140\n",
            "Method:                 Least Squares   F-statistic:                     16.96\n",
            "Date:                Sat, 29 Apr 2023   Prob (F-statistic):           8.03e-05\n",
            "Time:                        18:18:53   Log-Likelihood:                 112.52\n",
            "No. Observations:                  99   AIC:                            -221.0\n",
            "Df Residuals:                      97   BIC:                            -215.9\n",
            "Df Model:                           1                                         \n",
            "Covariance Type:            nonrobust                                         \n",
            "==================================================================================\n",
            "                     coef    std err          t      P>|t|      [0.025      0.975]\n",
            "----------------------------------------------------------------------------------\n",
            "const              0.2359      0.014     17.291      0.000       0.209       0.263\n",
            "tune_pool_size    -0.0004   8.96e-05     -4.118      0.000      -0.001      -0.000\n",
            "==============================================================================\n",
            "Omnibus:                       30.177   Durbin-Watson:                   1.900\n",
            "Prob(Omnibus):                  0.000   Jarque-Bera (JB):               52.111\n",
            "Skew:                           1.283   Prob(JB):                     4.83e-12\n",
            "Kurtosis:                       5.459   Cond. No.                         263.\n",
            "==============================================================================\n",
            "\n",
            "Notes:\n",
            "[1] Standard Errors assume that the covariance matrix of the errors is correctly specified.\n"
          ]
        }
      ],
      "source": [
        "# Code based off of: \n",
        "  # https://matplotlib.org/stable/gallery/shapes_and_collections/scatter.html\n",
        "  # https://realpython.com/linear-regression-in-python/\n",
        "\n",
        "x = etc_tune['tune_pool_size']\n",
        "y = etc_tune['tune_mses_train']\n",
        "\n",
        "# regression model\n",
        "slope, intercept, r, p, std_err = stats.linregress(x, y)\n",
        "def myfunc(x):\n",
        "  return slope * x + intercept\n",
        "mymodel = list(map(myfunc, x))\n",
        "\n",
        "# scatter plot\n",
        "plt.scatter(x, y)\n",
        "plt.plot(x, mymodel)\n",
        "plt.show()\n",
        "\n",
        "x = sm.add_constant(x)\n",
        "model = sm.OLS(y, x)\n",
        "results = model.fit()\n",
        "print(results.summary())"
      ]
    },
    {
      "attachments": {},
      "cell_type": "markdown",
      "metadata": {
        "id": "H18meYm7I-8g"
      },
      "source": [
        "### Pool Size & Testing MSE"
      ]
    },
    {
      "cell_type": "code",
      "execution_count": 24,
      "metadata": {
        "colab": {
          "base_uri": "https://localhost:8080/",
          "height": 864
        },
        "id": "KOs_ziY3JKpr",
        "outputId": "a13db4ed-ffd3-4a6f-e6d9-57bc25ac2c9b"
      },
      "outputs": [
        {
          "data": {
            "image/png": "[encoded data removed]",
            "text/plain": [
              "<Figure size 640x480 with 1 Axes>"
            ]
          },
          "metadata": {},
          "output_type": "display_data"
        },
        {
          "name": "stdout",
          "output_type": "stream",
          "text": [
            "                            OLS Regression Results                            \n",
            "==============================================================================\n",
            "Dep. Variable:         tune_mses_test   R-squared:                       0.250\n",
            "Model:                            OLS   Adj. R-squared:                  0.242\n",
            "Method:                 Least Squares   F-statistic:                     32.34\n",
            "Date:                Sat, 29 Apr 2023   Prob (F-statistic):           1.37e-07\n",
            "Time:                        18:18:58   Log-Likelihood:                 96.016\n",
            "No. Observations:                  99   AIC:                            -188.0\n",
            "Df Residuals:                      97   BIC:                            -182.8\n",
            "Df Model:                           1                                         \n",
            "Covariance Type:            nonrobust                                         \n",
            "==================================================================================\n",
            "                     coef    std err          t      P>|t|      [0.025      0.975]\n",
            "----------------------------------------------------------------------------------\n",
            "const              0.4103      0.016     25.459      0.000       0.378       0.442\n",
            "tune_pool_size    -0.0006      0.000     -5.687      0.000      -0.001      -0.000\n",
            "==============================================================================\n",
            "Omnibus:                        5.976   Durbin-Watson:                   1.843\n",
            "Prob(Omnibus):                  0.050   Jarque-Bera (JB):                7.138\n",
            "Skew:                           0.295   Prob(JB):                       0.0282\n",
            "Kurtosis:                       4.176   Cond. No.                         263.\n",
            "==============================================================================\n",
            "\n",
            "Notes:\n",
            "[1] Standard Errors assume that the covariance matrix of the errors is correctly specified.\n"
          ]
        }
      ],
      "source": [
        "# Code based off of: \n",
        "  # https://matplotlib.org/stable/gallery/shapes_and_collections/scatter.html\n",
        "  # https://realpython.com/linear-regression-in-python/\n",
        "\n",
        "x = etc_tune['tune_pool_size']\n",
        "y = etc_tune['tune_mses_test']\n",
        "\n",
        "# regression model\n",
        "slope, intercept, r, p, std_err = stats.linregress(x, y)\n",
        "def myfunc(x):\n",
        "  return slope * x + intercept\n",
        "mymodel = list(map(myfunc, x))\n",
        "\n",
        "# scatter plot\n",
        "plt.scatter(x, y)\n",
        "plt.plot(x, mymodel)\n",
        "plt.show()\n",
        "\n",
        "x = sm.add_constant(x)\n",
        "model = sm.OLS(y, x)\n",
        "results = model.fit()\n",
        "print(results.summary())"
      ]
    },
    {
      "attachments": {},
      "cell_type": "markdown",
      "metadata": {
        "id": "ywGxcME6JPrF"
      },
      "source": [
        "### Co-Training Iterations & Training MSE\n",
        "\n"
      ]
    },
    {
      "cell_type": "code",
      "execution_count": 25,
      "metadata": {
        "colab": {
          "base_uri": "https://localhost:8080/",
          "height": 864
        },
        "id": "aVyqsUUzJrEP",
        "outputId": "efefed63-bf4b-4290-8792-06faaa64e442"
      },
      "outputs": [
        {
          "data": {
            "image/png": "[encoded data removed]",
            "text/plain": [
              "<Figure size 640x480 with 1 Axes>"
            ]
          },
          "metadata": {},
          "output_type": "display_data"
        },
        {
          "name": "stdout",
          "output_type": "stream",
          "text": [
            "                            OLS Regression Results                            \n",
            "==============================================================================\n",
            "Dep. Variable:        tune_mses_train   R-squared:                       0.069\n",
            "Model:                            OLS   Adj. R-squared:                  0.059\n",
            "Method:                 Least Squares   F-statistic:                     7.178\n",
            "Date:                Sat, 29 Apr 2023   Prob (F-statistic):            0.00867\n",
            "Time:                        18:19:02   Log-Likelihood:                 108.08\n",
            "No. Observations:                  99   AIC:                            -212.2\n",
            "Df Residuals:                      97   BIC:                            -207.0\n",
            "Df Model:                           1                                         \n",
            "Covariance Type:            nonrobust                                         \n",
            "==================================================================================\n",
            "                     coef    std err          t      P>|t|      [0.025      0.975]\n",
            "----------------------------------------------------------------------------------\n",
            "const              0.2188      0.014     16.152      0.000       0.192       0.246\n",
            "tune_max_iters    -0.0003   9.71e-05     -2.679      0.009      -0.000   -6.74e-05\n",
            "==============================================================================\n",
            "Omnibus:                       32.770   Durbin-Watson:                   1.806\n",
            "Prob(Omnibus):                  0.000   Jarque-Bera (JB):               56.345\n",
            "Skew:                           1.412   Prob(JB):                     5.82e-13\n",
            "Kurtosis:                       5.384   Cond. No.                         229.\n",
            "==============================================================================\n",
            "\n",
            "Notes:\n",
            "[1] Standard Errors assume that the covariance matrix of the errors is correctly specified.\n"
          ]
        }
      ],
      "source": [
        "# Code based off of: \n",
        "  # https://matplotlib.org/stable/gallery/shapes_and_collections/scatter.html\n",
        "  # https://realpython.com/linear-regression-in-python/\n",
        "\n",
        "x = etc_tune['tune_max_iters']\n",
        "y = etc_tune['tune_mses_train']\n",
        "\n",
        "# regression model\n",
        "slope, intercept, r, p, std_err = stats.linregress(x, y)\n",
        "def myfunc(x):\n",
        "  return slope * x + intercept\n",
        "mymodel = list(map(myfunc, x))\n",
        "\n",
        "# scatter plot\n",
        "plt.scatter(x, y)\n",
        "plt.plot(x, mymodel)\n",
        "plt.show()\n",
        "\n",
        "x = sm.add_constant(x)\n",
        "model = sm.OLS(y, x)\n",
        "results = model.fit()\n",
        "print(results.summary())"
      ]
    },
    {
      "attachments": {},
      "cell_type": "markdown",
      "metadata": {
        "id": "wuqBaIKyJu7m"
      },
      "source": [
        "### Co-Training Iterations & Testing MSE\n",
        "\n"
      ]
    },
    {
      "cell_type": "code",
      "execution_count": 26,
      "metadata": {
        "colab": {
          "base_uri": "https://localhost:8080/",
          "height": 864
        },
        "id": "EqhPpT2xJz4Q",
        "outputId": "687f55e9-b1c7-4ff6-e2f1-032b9f4ae8a4"
      },
      "outputs": [
        {
          "data": {
            "image/png": "[encoded data removed]",
            "text/plain": [
              "<Figure size 640x480 with 1 Axes>"
            ]
          },
          "metadata": {},
          "output_type": "display_data"
        },
        {
          "name": "stdout",
          "output_type": "stream",
          "text": [
            "                            OLS Regression Results                            \n",
            "==============================================================================\n",
            "Dep. Variable:         tune_mses_test   R-squared:                       0.023\n",
            "Model:                            OLS   Adj. R-squared:                  0.013\n",
            "Method:                 Least Squares   F-statistic:                     2.312\n",
            "Date:                Sat, 29 Apr 2023   Prob (F-statistic):              0.132\n",
            "Time:                        18:19:05   Log-Likelihood:                 82.941\n",
            "No. Observations:                  99   AIC:                            -161.9\n",
            "Df Residuals:                      97   BIC:                            -156.7\n",
            "Df Model:                           1                                         \n",
            "Covariance Type:            nonrobust                                         \n",
            "==================================================================================\n",
            "                     coef    std err          t      P>|t|      [0.025      0.975]\n",
            "----------------------------------------------------------------------------------\n",
            "const              0.3566      0.017     20.418      0.000       0.322       0.391\n",
            "tune_max_iters    -0.0002      0.000     -1.521      0.132      -0.000    5.81e-05\n",
            "==============================================================================\n",
            "Omnibus:                        4.251   Durbin-Watson:                   1.935\n",
            "Prob(Omnibus):                  0.119   Jarque-Bera (JB):                3.656\n",
            "Skew:                           0.453   Prob(JB):                        0.161\n",
            "Kurtosis:                       3.257   Cond. No.                         229.\n",
            "==============================================================================\n",
            "\n",
            "Notes:\n",
            "[1] Standard Errors assume that the covariance matrix of the errors is correctly specified.\n"
          ]
        }
      ],
      "source": [
        "# Code based off of: \n",
        "  # https://matplotlib.org/stable/gallery/shapes_and_collections/scatter.html\n",
        "  # https://realpython.com/linear-regression-in-python/\n",
        "\n",
        "x = etc_tune['tune_max_iters']\n",
        "y = etc_tune['tune_mses_test']\n",
        "\n",
        "# regression model\n",
        "slope, intercept, r, p, std_err = stats.linregress(x, y)\n",
        "def myfunc(x):\n",
        "  return slope * x + intercept\n",
        "mymodel = list(map(myfunc, x))\n",
        "\n",
        "# scatter plot\n",
        "plt.scatter(x, y)\n",
        "plt.plot(x, mymodel)\n",
        "plt.show()\n",
        "\n",
        "x = sm.add_constant(x)\n",
        "model = sm.OLS(y, x)\n",
        "results = model.fit()\n",
        "print(results.summary())"
      ]
    },
    {
      "attachments": {},
      "cell_type": "markdown",
      "metadata": {
        "id": "B3eUUybYJ2MX"
      },
      "source": [
        "### K1 & Training MSE"
      ]
    },
    {
      "cell_type": "code",
      "execution_count": 27,
      "metadata": {
        "colab": {
          "base_uri": "https://localhost:8080/",
          "height": 864
        },
        "id": "4iR26STMKHRo",
        "outputId": "82f6ad11-4cc8-4544-e408-848e48c14067"
      },
      "outputs": [
        {
          "data": {
            "image/png": "[encoded data removed]",
            "text/plain": [
              "<Figure size 640x480 with 1 Axes>"
            ]
          },
          "metadata": {},
          "output_type": "display_data"
        },
        {
          "name": "stdout",
          "output_type": "stream",
          "text": [
            "                            OLS Regression Results                            \n",
            "==============================================================================\n",
            "Dep. Variable:        tune_mses_train   R-squared:                       0.014\n",
            "Model:                            OLS   Adj. R-squared:                  0.004\n",
            "Method:                 Least Squares   F-statistic:                     1.389\n",
            "Date:                Sat, 29 Apr 2023   Prob (F-statistic):              0.241\n",
            "Time:                        18:19:09   Log-Likelihood:                 105.25\n",
            "No. Observations:                  99   AIC:                            -206.5\n",
            "Df Residuals:                      97   BIC:                            -201.3\n",
            "Df Model:                           1                                         \n",
            "Covariance Type:            nonrobust                                         \n",
            "==============================================================================\n",
            "                 coef    std err          t      P>|t|      [0.025      0.975]\n",
            "------------------------------------------------------------------------------\n",
            "const          0.1590      0.028      5.757      0.000       0.104       0.214\n",
            "tune_k1        0.0053      0.004      1.179      0.241      -0.004       0.014\n",
            "==============================================================================\n",
            "Omnibus:                       45.061   Durbin-Watson:                   1.960\n",
            "Prob(Omnibus):                  0.000   Jarque-Bera (JB):              103.610\n",
            "Skew:                           1.763   Prob(JB):                     3.17e-23\n",
            "Kurtosis:                       6.562   Cond. No.                         20.5\n",
            "==============================================================================\n",
            "\n",
            "Notes:\n",
            "[1] Standard Errors assume that the covariance matrix of the errors is correctly specified.\n"
          ]
        }
      ],
      "source": [
        "# Code based off of: \n",
        "  # https://matplotlib.org/stable/gallery/shapes_and_collections/scatter.html\n",
        "  # https://realpython.com/linear-regression-in-python/\n",
        "\n",
        "x = etc_tune['tune_k1']\n",
        "y = etc_tune['tune_mses_train']\n",
        "\n",
        "# regression model\n",
        "slope, intercept, r, p, std_err = stats.linregress(x, y)\n",
        "def myfunc(x):\n",
        "  return slope * x + intercept\n",
        "mymodel = list(map(myfunc, x))\n",
        "\n",
        "# scatter plot\n",
        "plt.scatter(x, y)\n",
        "plt.plot(x, mymodel)\n",
        "plt.show()\n",
        "\n",
        "x = sm.add_constant(x)\n",
        "model = sm.OLS(y, x)\n",
        "results = model.fit()\n",
        "print(results.summary())"
      ]
    },
    {
      "attachments": {},
      "cell_type": "markdown",
      "metadata": {
        "id": "Ur931tvGKLK4"
      },
      "source": [
        "### K1 & Testing MSE"
      ]
    },
    {
      "cell_type": "code",
      "execution_count": 28,
      "metadata": {
        "colab": {
          "base_uri": "https://localhost:8080/",
          "height": 864
        },
        "id": "AbsaGS2jKPVm",
        "outputId": "0d77ed7f-267f-4479-cab6-8efb8ba0909f"
      },
      "outputs": [
        {
          "data": {
            "image/png": "[encoded data removed]",
            "text/plain": [
              "<Figure size 640x480 with 1 Axes>"
            ]
          },
          "metadata": {},
          "output_type": "display_data"
        },
        {
          "name": "stdout",
          "output_type": "stream",
          "text": [
            "                            OLS Regression Results                            \n",
            "==============================================================================\n",
            "Dep. Variable:         tune_mses_test   R-squared:                       0.010\n",
            "Model:                            OLS   Adj. R-squared:                 -0.000\n",
            "Method:                 Least Squares   F-statistic:                    0.9978\n",
            "Date:                Sat, 29 Apr 2023   Prob (F-statistic):              0.320\n",
            "Time:                        18:19:13   Log-Likelihood:                 82.281\n",
            "No. Observations:                  99   AIC:                            -160.6\n",
            "Df Residuals:                      97   BIC:                            -155.4\n",
            "Df Model:                           1                                         \n",
            "Covariance Type:            nonrobust                                         \n",
            "==============================================================================\n",
            "                 coef    std err          t      P>|t|      [0.025      0.975]\n",
            "------------------------------------------------------------------------------\n",
            "const          0.3024      0.035      8.679      0.000       0.233       0.372\n",
            "tune_k1        0.0057      0.006      0.999      0.320      -0.006       0.017\n",
            "==============================================================================\n",
            "Omnibus:                        2.848   Durbin-Watson:                   2.051\n",
            "Prob(Omnibus):                  0.241   Jarque-Bera (JB):                2.837\n",
            "Skew:                           0.397   Prob(JB):                        0.242\n",
            "Kurtosis:                       2.761   Cond. No.                         20.5\n",
            "==============================================================================\n",
            "\n",
            "Notes:\n",
            "[1] Standard Errors assume that the covariance matrix of the errors is correctly specified.\n"
          ]
        }
      ],
      "source": [
        "# Code based off of: \n",
        "  # https://matplotlib.org/stable/gallery/shapes_and_collections/scatter.html\n",
        "  # https://realpython.com/linear-regression-in-python/\n",
        "\n",
        "x = etc_tune['tune_k1']\n",
        "y = etc_tune['tune_mses_test']\n",
        "\n",
        "# regression model\n",
        "slope, intercept, r, p, std_err = stats.linregress(x, y)\n",
        "def myfunc(x):\n",
        "  return slope * x + intercept\n",
        "mymodel = list(map(myfunc, x))\n",
        "\n",
        "# scatter plot\n",
        "plt.scatter(x, y)\n",
        "plt.plot(x, mymodel)\n",
        "plt.show()\n",
        "\n",
        "x = sm.add_constant(x)\n",
        "model = sm.OLS(y, x)\n",
        "results = model.fit()\n",
        "print(results.summary())"
      ]
    },
    {
      "attachments": {},
      "cell_type": "markdown",
      "metadata": {
        "id": "KTWI2ZzyKTrj"
      },
      "source": [
        "### K2 & Training MSE"
      ]
    },
    {
      "cell_type": "code",
      "execution_count": 29,
      "metadata": {
        "colab": {
          "base_uri": "https://localhost:8080/",
          "height": 864
        },
        "id": "kG8k7gA4KbVQ",
        "outputId": "ff4ac1ee-9186-4e4e-ae05-cc0d6cf045e8"
      },
      "outputs": [
        {
          "data": {
            "image/png": "[encoded data removed]",
            "text/plain": [
              "<Figure size 640x480 with 1 Axes>"
            ]
          },
          "metadata": {},
          "output_type": "display_data"
        },
        {
          "name": "stdout",
          "output_type": "stream",
          "text": [
            "                            OLS Regression Results                            \n",
            "==============================================================================\n",
            "Dep. Variable:        tune_mses_train   R-squared:                       0.172\n",
            "Model:                            OLS   Adj. R-squared:                  0.164\n",
            "Method:                 Least Squares   F-statistic:                     20.17\n",
            "Date:                Sat, 29 Apr 2023   Prob (F-statistic):           1.96e-05\n",
            "Time:                        18:19:17   Log-Likelihood:                 113.90\n",
            "No. Observations:                  99   AIC:                            -223.8\n",
            "Df Residuals:                      97   BIC:                            -218.6\n",
            "Df Model:                           1                                         \n",
            "Covariance Type:            nonrobust                                         \n",
            "==============================================================================\n",
            "                 coef    std err          t      P>|t|      [0.025      0.975]\n",
            "------------------------------------------------------------------------------\n",
            "const          0.0931      0.023      4.060      0.000       0.048       0.139\n",
            "tune_k2        0.0165      0.004      4.491      0.000       0.009       0.024\n",
            "==============================================================================\n",
            "Omnibus:                       32.654   Durbin-Watson:                   2.229\n",
            "Prob(Omnibus):                  0.000   Jarque-Bera (JB):               56.555\n",
            "Skew:                           1.400   Prob(JB):                     5.24e-13\n",
            "Kurtosis:                       5.423   Cond. No.                         18.9\n",
            "==============================================================================\n",
            "\n",
            "Notes:\n",
            "[1] Standard Errors assume that the covariance matrix of the errors is correctly specified.\n"
          ]
        }
      ],
      "source": [
        "# Code based off of: \n",
        "  # https://matplotlib.org/stable/gallery/shapes_and_collections/scatter.html\n",
        "  # https://realpython.com/linear-regression-in-python/\n",
        "\n",
        "x = etc_tune['tune_k2']\n",
        "y = etc_tune['tune_mses_train']\n",
        "\n",
        "# regression model\n",
        "slope, intercept, r, p, std_err = stats.linregress(x, y)\n",
        "def myfunc(x):\n",
        "  return slope * x + intercept\n",
        "mymodel = list(map(myfunc, x))\n",
        "\n",
        "# scatter plot\n",
        "plt.scatter(x, y)\n",
        "plt.plot(x, mymodel)\n",
        "plt.show()\n",
        "\n",
        "x = sm.add_constant(x)\n",
        "model = sm.OLS(y, x)\n",
        "results = model.fit()\n",
        "print(results.summary())"
      ]
    },
    {
      "attachments": {},
      "cell_type": "markdown",
      "metadata": {
        "id": "y5nTOQL7KgDG"
      },
      "source": [
        "### K2 & Testing MSE"
      ]
    },
    {
      "cell_type": "code",
      "execution_count": 30,
      "metadata": {
        "colab": {
          "base_uri": "https://localhost:8080/",
          "height": 864
        },
        "id": "QooBQg2MKjCO",
        "outputId": "aa3d4d8b-c1ed-4a45-c32b-e9cc244e180d"
      },
      "outputs": [
        {
          "data": {
            "image/png": "[encoded data removed]",
            "text/plain": [
              "<Figure size 640x480 with 1 Axes>"
            ]
          },
          "metadata": {},
          "output_type": "display_data"
        },
        {
          "name": "stdout",
          "output_type": "stream",
          "text": [
            "                            OLS Regression Results                            \n",
            "==============================================================================\n",
            "Dep. Variable:         tune_mses_test   R-squared:                       0.037\n",
            "Model:                            OLS   Adj. R-squared:                  0.027\n",
            "Method:                 Least Squares   F-statistic:                     3.755\n",
            "Date:                Sat, 29 Apr 2023   Prob (F-statistic):             0.0555\n",
            "Time:                        18:19:21   Log-Likelihood:                 83.655\n",
            "No. Observations:                  99   AIC:                            -163.3\n",
            "Df Residuals:                      97   BIC:                            -158.1\n",
            "Df Model:                           1                                         \n",
            "Covariance Type:            nonrobust                                         \n",
            "==============================================================================\n",
            "                 coef    std err          t      P>|t|      [0.025      0.975]\n",
            "------------------------------------------------------------------------------\n",
            "const          0.2788      0.031      8.954      0.000       0.217       0.341\n",
            "tune_k2        0.0096      0.005      1.938      0.056      -0.000       0.020\n",
            "==============================================================================\n",
            "Omnibus:                        0.820   Durbin-Watson:                   2.052\n",
            "Prob(Omnibus):                  0.664   Jarque-Bera (JB):                0.935\n",
            "Skew:                           0.188   Prob(JB):                        0.626\n",
            "Kurtosis:                       2.707   Cond. No.                         18.9\n",
            "==============================================================================\n",
            "\n",
            "Notes:\n",
            "[1] Standard Errors assume that the covariance matrix of the errors is correctly specified.\n"
          ]
        }
      ],
      "source": [
        "# Code based off of: \n",
        "  # https://matplotlib.org/stable/gallery/shapes_and_collections/scatter.html\n",
        "  # https://realpython.com/linear-regression-in-python/\n",
        "\n",
        "x = etc_tune['tune_k2']\n",
        "y = etc_tune['tune_mses_test']\n",
        "\n",
        "# regression model\n",
        "slope, intercept, r, p, std_err = stats.linregress(x, y)\n",
        "def myfunc(x):\n",
        "  return slope * x + intercept\n",
        "mymodel = list(map(myfunc, x))\n",
        "\n",
        "# scatter plot\n",
        "plt.scatter(x, y)\n",
        "plt.plot(x, mymodel)\n",
        "plt.show()\n",
        "\n",
        "x = sm.add_constant(x)\n",
        "model = sm.OLS(y, x)\n",
        "results = model.fit()\n",
        "print(results.summary())"
      ]
    },
    {
      "attachments": {},
      "cell_type": "markdown",
      "metadata": {
        "id": "wLYVk8SgKq4M"
      },
      "source": [
        "### P1 & Training MSE"
      ]
    },
    {
      "cell_type": "code",
      "execution_count": 31,
      "metadata": {
        "colab": {
          "base_uri": "https://localhost:8080/",
          "height": 864
        },
        "id": "iYUPN4jtKx1p",
        "outputId": "735c9d4b-8116-4927-a684-c002cebe3bb3"
      },
      "outputs": [
        {
          "data": {
            "image/png": "[encoded data removed]",
            "text/plain": [
              "<Figure size 640x480 with 1 Axes>"
            ]
          },
          "metadata": {},
          "output_type": "display_data"
        },
        {
          "name": "stdout",
          "output_type": "stream",
          "text": [
            "                            OLS Regression Results                            \n",
            "==============================================================================\n",
            "Dep. Variable:        tune_mses_train   R-squared:                       0.004\n",
            "Model:                            OLS   Adj. R-squared:                 -0.006\n",
            "Method:                 Least Squares   F-statistic:                    0.3988\n",
            "Date:                Sat, 29 Apr 2023   Prob (F-statistic):              0.529\n",
            "Time:                        18:19:26   Log-Likelihood:                 104.75\n",
            "No. Observations:                  99   AIC:                            -205.5\n",
            "Df Residuals:                      97   BIC:                            -200.3\n",
            "Df Model:                           1                                         \n",
            "Covariance Type:            nonrobust                                         \n",
            "==============================================================================\n",
            "                 coef    std err          t      P>|t|      [0.025      0.975]\n",
            "------------------------------------------------------------------------------\n",
            "const          0.2013      0.020     10.159      0.000       0.162       0.241\n",
            "tune_p1       -0.0024      0.004     -0.632      0.529      -0.010       0.005\n",
            "==============================================================================\n",
            "Omnibus:                       40.025   Durbin-Watson:                   1.971\n",
            "Prob(Omnibus):                  0.000   Jarque-Bera (JB):               79.627\n",
            "Skew:                           1.641   Prob(JB):                     5.12e-18\n",
            "Kurtosis:                       5.920   Cond. No.                         12.5\n",
            "==============================================================================\n",
            "\n",
            "Notes:\n",
            "[1] Standard Errors assume that the covariance matrix of the errors is correctly specified.\n"
          ]
        }
      ],
      "source": [
        "# Code based off of: \n",
        "  # https://matplotlib.org/stable/gallery/shapes_and_collections/scatter.html\n",
        "  # https://realpython.com/linear-regression-in-python/\n",
        "\n",
        "x = etc_tune['tune_p1']\n",
        "y = etc_tune['tune_mses_train']\n",
        "\n",
        "# regression model\n",
        "slope, intercept, r, p, std_err = stats.linregress(x, y)\n",
        "def myfunc(x):\n",
        "  return slope * x + intercept\n",
        "mymodel = list(map(myfunc, x))\n",
        "\n",
        "# scatter plot\n",
        "plt.scatter(x, y)\n",
        "plt.plot(x, mymodel)\n",
        "plt.show()\n",
        "\n",
        "x = sm.add_constant(x)\n",
        "model = sm.OLS(y, x)\n",
        "results = model.fit()\n",
        "print(results.summary())"
      ]
    },
    {
      "attachments": {},
      "cell_type": "markdown",
      "metadata": {
        "id": "0QBYZD1JK1gD"
      },
      "source": [
        "### P1 & Testing MSE"
      ]
    },
    {
      "cell_type": "code",
      "execution_count": 32,
      "metadata": {
        "colab": {
          "base_uri": "https://localhost:8080/",
          "height": 864
        },
        "id": "3wODgqfoK1-Z",
        "outputId": "f6a907df-268b-4c38-a9c5-de0ad7437f92"
      },
      "outputs": [
        {
          "data": {
            "image/png": "[encoded data removed]",
            "text/plain": [
              "<Figure size 640x480 with 1 Axes>"
            ]
          },
          "metadata": {},
          "output_type": "display_data"
        },
        {
          "name": "stdout",
          "output_type": "stream",
          "text": [
            "                            OLS Regression Results                            \n",
            "==============================================================================\n",
            "Dep. Variable:         tune_mses_test   R-squared:                       0.001\n",
            "Model:                            OLS   Adj. R-squared:                 -0.009\n",
            "Method:                 Least Squares   F-statistic:                    0.1111\n",
            "Date:                Sat, 29 Apr 2023   Prob (F-statistic):              0.740\n",
            "Time:                        18:19:30   Log-Likelihood:                 81.831\n",
            "No. Observations:                  99   AIC:                            -159.7\n",
            "Df Residuals:                      97   BIC:                            -154.5\n",
            "Df Model:                           1                                         \n",
            "Covariance Type:            nonrobust                                         \n",
            "==============================================================================\n",
            "                 coef    std err          t      P>|t|      [0.025      0.975]\n",
            "------------------------------------------------------------------------------\n",
            "const          0.3430      0.025     13.732      0.000       0.293       0.393\n",
            "tune_p1       -0.0016      0.005     -0.333      0.740      -0.011       0.008\n",
            "==============================================================================\n",
            "Omnibus:                        2.274   Durbin-Watson:                   2.017\n",
            "Prob(Omnibus):                  0.321   Jarque-Bera (JB):                2.225\n",
            "Skew:                           0.356   Prob(JB):                        0.329\n",
            "Kurtosis:                       2.824   Cond. No.                         12.5\n",
            "==============================================================================\n",
            "\n",
            "Notes:\n",
            "[1] Standard Errors assume that the covariance matrix of the errors is correctly specified.\n"
          ]
        }
      ],
      "source": [
        "# Code based off of: \n",
        "  # https://matplotlib.org/stable/gallery/shapes_and_collections/scatter.html\n",
        "  # https://realpython.com/linear-regression-in-python/\n",
        "\n",
        "x = etc_tune['tune_p1']\n",
        "y = etc_tune['tune_mses_test']\n",
        "\n",
        "# regression model\n",
        "slope, intercept, r, p, std_err = stats.linregress(x, y)\n",
        "def myfunc(x):\n",
        "  return slope * x + intercept\n",
        "mymodel = list(map(myfunc, x))\n",
        "\n",
        "# scatter plot\n",
        "plt.scatter(x, y)\n",
        "plt.plot(x, mymodel)\n",
        "plt.show()\n",
        "\n",
        "x = sm.add_constant(x)\n",
        "model = sm.OLS(y, x)\n",
        "results = model.fit()\n",
        "print(results.summary())"
      ]
    },
    {
      "attachments": {},
      "cell_type": "markdown",
      "metadata": {
        "id": "SAgUxETUK_yp"
      },
      "source": [
        "### P2 & Training MSE"
      ]
    },
    {
      "cell_type": "code",
      "execution_count": 33,
      "metadata": {
        "colab": {
          "base_uri": "https://localhost:8080/",
          "height": 864
        },
        "id": "XClwN6TFLALq",
        "outputId": "5e39f05d-707f-49f7-9b71-61bdcf0cce4d"
      },
      "outputs": [
        {
          "data": {
            "image/png": "[encoded data removed]",
            "text/plain": [
              "<Figure size 640x480 with 1 Axes>"
            ]
          },
          "metadata": {},
          "output_type": "display_data"
        },
        {
          "name": "stdout",
          "output_type": "stream",
          "text": [
            "                            OLS Regression Results                            \n",
            "==============================================================================\n",
            "Dep. Variable:        tune_mses_train   R-squared:                       0.011\n",
            "Model:                            OLS   Adj. R-squared:                  0.000\n",
            "Method:                 Least Squares   F-statistic:                     1.040\n",
            "Date:                Sat, 29 Apr 2023   Prob (F-statistic):              0.310\n",
            "Time:                        18:19:34   Log-Likelihood:                 105.07\n",
            "No. Observations:                  99   AIC:                            -206.1\n",
            "Df Residuals:                      97   BIC:                            -201.0\n",
            "Df Model:                           1                                         \n",
            "Covariance Type:            nonrobust                                         \n",
            "==============================================================================\n",
            "                 coef    std err          t      P>|t|      [0.025      0.975]\n",
            "------------------------------------------------------------------------------\n",
            "const          0.1743      0.018      9.890      0.000       0.139       0.209\n",
            "tune_p2        0.0041      0.004      1.020      0.310      -0.004       0.012\n",
            "==============================================================================\n",
            "Omnibus:                       39.265   Durbin-Watson:                   1.898\n",
            "Prob(Omnibus):                  0.000   Jarque-Bera (JB):               78.419\n",
            "Skew:                           1.600   Prob(JB):                     9.37e-18\n",
            "Kurtosis:                       5.960   Cond. No.                         9.52\n",
            "==============================================================================\n",
            "\n",
            "Notes:\n",
            "[1] Standard Errors assume that the covariance matrix of the errors is correctly specified.\n"
          ]
        }
      ],
      "source": [
        "# Code based off of: \n",
        "  # https://matplotlib.org/stable/gallery/shapes_and_collections/scatter.html\n",
        "  # https://realpython.com/linear-regression-in-python/\n",
        "\n",
        "x = etc_tune['tune_p2']\n",
        "y = etc_tune['tune_mses_train']\n",
        "\n",
        "# regression model\n",
        "slope, intercept, r, p, std_err = stats.linregress(x, y)\n",
        "def myfunc(x):\n",
        "  return slope * x + intercept\n",
        "mymodel = list(map(myfunc, x))\n",
        "\n",
        "# scatter plot\n",
        "plt.scatter(x, y)\n",
        "plt.plot(x, mymodel)\n",
        "plt.show()\n",
        "\n",
        "x = sm.add_constant(x)\n",
        "model = sm.OLS(y, x)\n",
        "results = model.fit()\n",
        "print(results.summary())"
      ]
    },
    {
      "attachments": {},
      "cell_type": "markdown",
      "metadata": {
        "id": "xake4lYHLI12"
      },
      "source": [
        "### P2 & Testing MSE"
      ]
    },
    {
      "cell_type": "code",
      "execution_count": 34,
      "metadata": {
        "colab": {
          "base_uri": "https://localhost:8080/",
          "height": 864
        },
        "id": "uN9cj6h_LJWW",
        "outputId": "dc69f8c7-9735-4202-990e-b1739e24b1c7"
      },
      "outputs": [
        {
          "data": {
            "image/png": "[encoded data removed]",
            "text/plain": [
              "<Figure size 640x480 with 1 Axes>"
            ]
          },
          "metadata": {},
          "output_type": "display_data"
        },
        {
          "name": "stdout",
          "output_type": "stream",
          "text": [
            "                            OLS Regression Results                            \n",
            "==============================================================================\n",
            "Dep. Variable:         tune_mses_test   R-squared:                       0.000\n",
            "Model:                            OLS   Adj. R-squared:                 -0.010\n",
            "Method:                 Least Squares   F-statistic:                 0.0005696\n",
            "Date:                Sat, 29 Apr 2023   Prob (F-statistic):              0.981\n",
            "Time:                        18:19:37   Log-Likelihood:                 81.775\n",
            "No. Observations:                  99   AIC:                            -159.5\n",
            "Df Residuals:                      97   BIC:                            -154.4\n",
            "Df Model:                           1                                         \n",
            "Covariance Type:            nonrobust                                         \n",
            "==============================================================================\n",
            "                 coef    std err          t      P>|t|      [0.025      0.975]\n",
            "------------------------------------------------------------------------------\n",
            "const          0.3360      0.022     15.067      0.000       0.292       0.380\n",
            "tune_p2       -0.0001      0.005     -0.024      0.981      -0.010       0.010\n",
            "==============================================================================\n",
            "Omnibus:                        2.375   Durbin-Watson:                   2.001\n",
            "Prob(Omnibus):                  0.305   Jarque-Bera (JB):                2.333\n",
            "Skew:                           0.364   Prob(JB):                        0.311\n",
            "Kurtosis:                       2.813   Cond. No.                         9.52\n",
            "==============================================================================\n",
            "\n",
            "Notes:\n",
            "[1] Standard Errors assume that the covariance matrix of the errors is correctly specified.\n"
          ]
        }
      ],
      "source": [
        "# Code based off of: \n",
        "  # https://matplotlib.org/stable/gallery/shapes_and_collections/scatter.html\n",
        "  # https://realpython.com/linear-regression-in-python/\n",
        "\n",
        "x = etc_tune['tune_p2']\n",
        "y = etc_tune['tune_mses_test']\n",
        "\n",
        "# regression model\n",
        "slope, intercept, r, p, std_err = stats.linregress(x, y)\n",
        "def myfunc(x):\n",
        "  return slope * x + intercept\n",
        "mymodel = list(map(myfunc, x))\n",
        "\n",
        "# scatter plot\n",
        "plt.scatter(x, y)\n",
        "plt.plot(x, mymodel)\n",
        "plt.show()\n",
        "\n",
        "x = sm.add_constant(x)\n",
        "model = sm.OLS(y, x)\n",
        "results = model.fit()\n",
        "print(results.summary())"
      ]
    },
    {
      "attachments": {},
      "cell_type": "markdown",
      "metadata": {
        "id": "hY_i_xMvQapQ"
      },
      "source": [
        "## Multiple Feature Analysis\n",
        "\n",
        "### Training Data MLR\n",
        "\n",
        "The following features had statistically significant relationships to **training** MSE:\n",
        "* Amount of testing / training data\n",
        "* KNN regressor co-trainer (k)\n",
        "\n",
        "The following features had statistically insignificant relationships to training MSE:\n",
        "* Amount of labeled / unlabeled data\n",
        "* pool size\n",
        "* Co-training iterations\n",
        "* Distance of KNN regressor co-trainer (p)\n",
        "\n",
        "### Testing Data MLR\n",
        "\n",
        "The following features had statistically significant relationships to **testing** MSE:\n",
        "* Amount of testing / training data\n",
        "* KNN regressor co-trainer (k)\n",
        "* Co-training iterations\n",
        "\n",
        "The following features had statistically insignificant relationships to training MSE:\n",
        "* Amount of labeled / unlabeled data\n",
        "* pool size\n",
        "* Distance of KNN regressor co-trainer (p)\n"
      ]
    },
    {
      "attachments": {},
      "cell_type": "markdown",
      "metadata": {
        "id": "YaVKAa5pLlP0"
      },
      "source": [
        "### Multiple Linear Regression"
      ]
    },
    {
      "cell_type": "code",
      "execution_count": 18,
      "metadata": {
        "id": "Q9wd7a4ZPLPf"
      },
      "outputs": [],
      "source": [
        "etc_x = etc_tune.drop(['tune_mses_test', 'tune_mses_train', \n",
        "                       'tune_mses1_test', 'tune_mses1_train',\n",
        "                       'tune_mses2_test', 'tune_mses2_train',\n",
        "                       \n",
        "                       'tune_maes_test', 'tune_maes_train',\n",
        "                       'tune_maes1_test', 'tune_maes1_train',\n",
        "                       'tune_maes2_test', 'tune_maes2_train',\n",
        "                       \n",
        "                       'tune_num_train', 'tune_num_unlabeled',\n",
        "                       'tune_num_labeled'], axis=1)"
      ]
    },
    {
      "attachments": {},
      "cell_type": "markdown",
      "metadata": {
        "id": "qAuUZGrbSC1K"
      },
      "source": [
        "* I removed `tune_num_train` as all the points are either assigned to testing or training data (meaning that `tune_num_test` captures the information needed in `tune_num_train`).\n",
        "\n",
        "  * In addition, the training data is further split into `tune_num_labeled` and `tune_num_unlabeled`.\n",
        "\n",
        "* For similar reasons, I also removed `tune_num_unlabeled`."
      ]
    },
    {
      "attachments": {},
      "cell_type": "markdown",
      "metadata": {
        "id": "O-vTHV1kOSqG"
      },
      "source": [
        "#### Training Data MLR"
      ]
    },
    {
      "cell_type": "code",
      "execution_count": 19,
      "metadata": {
        "colab": {
          "base_uri": "https://localhost:8080/"
        },
        "id": "E3oiA62OPFzR",
        "outputId": "cfabed3e-61b7-448e-e63a-1724ca1a53f3"
      },
      "outputs": [
        {
          "name": "stdout",
          "output_type": "stream",
          "text": [
            "                            OLS Regression Results                            \n",
            "==============================================================================\n",
            "Dep. Variable:        tune_mses_train   R-squared:                       0.489\n",
            "Model:                            OLS   Adj. R-squared:                  0.444\n",
            "Method:                 Least Squares   F-statistic:                     10.77\n",
            "Date:                Mon, 01 May 2023   Prob (F-statistic):           1.64e-10\n",
            "Time:                        16:19:26   Log-Likelihood:                 137.78\n",
            "No. Observations:                  99   AIC:                            -257.6\n",
            "Df Residuals:                      90   BIC:                            -234.2\n",
            "Df Model:                           8                                         \n",
            "Covariance Type:            nonrobust                                         \n",
            "==================================================================================\n",
            "                     coef    std err          t      P>|t|      [0.025      0.975]\n",
            "----------------------------------------------------------------------------------\n",
            "const              0.1388      0.168      0.825      0.412      -0.196       0.473\n",
            "tune_num_test      0.0002      0.000      0.973      0.333      -0.000       0.001\n",
            "tune_pool_size -2.855e-05      0.000     -0.266      0.791      -0.000       0.000\n",
            "tune_max_iters  3.269e-05      0.000      0.169      0.866      -0.000       0.000\n",
            "tune_k1            0.0070      0.003      2.051      0.043       0.000       0.014\n",
            "tune_k2            0.0142      0.003      4.556      0.000       0.008       0.020\n",
            "tune_p1           -0.0025      0.003     -0.861      0.391      -0.008       0.003\n",
            "tune_p2            0.0010      0.003      0.323      0.748      -0.005       0.007\n",
            "log_labeled       -0.0265      0.022     -1.188      0.238      -0.071       0.018\n",
            "==============================================================================\n",
            "Omnibus:                       20.502   Durbin-Watson:                   2.061\n",
            "Prob(Omnibus):                  0.000   Jarque-Bera (JB):               37.342\n",
            "Skew:                           0.831   Prob(JB):                     7.79e-09\n",
            "Kurtosis:                       5.508   Cond. No.                     7.63e+03\n",
            "==============================================================================\n",
            "\n",
            "Notes:\n",
            "[1] Standard Errors assume that the covariance matrix of the errors is correctly specified.\n",
            "[2] The condition number is large, 7.63e+03. This might indicate that there are\n",
            "strong multicollinearity or other numerical problems.\n"
          ]
        }
      ],
      "source": [
        "# Code based off of: https://realpython.com/linear-regression-in-python/\n",
        "\n",
        "x = etc_x\n",
        "y = etc_tune['tune_mses_train']\n",
        "\n",
        "# regression\n",
        "x = sm.add_constant(x)\n",
        "model = sm.OLS(y, x)\n",
        "results = model.fit()\n",
        "print(results.summary())"
      ]
    },
    {
      "attachments": {},
      "cell_type": "markdown",
      "metadata": {
        "id": "Hmu80NthPFNl"
      },
      "source": [
        "#### Testing Data MLR"
      ]
    },
    {
      "cell_type": "code",
      "execution_count": 20,
      "metadata": {
        "colab": {
          "base_uri": "https://localhost:8080/"
        },
        "id": "bPwqS13LLz2D",
        "outputId": "52af99a2-4213-45a8-8774-be4620cf114e"
      },
      "outputs": [
        {
          "name": "stdout",
          "output_type": "stream",
          "text": [
            "                            OLS Regression Results                            \n",
            "==============================================================================\n",
            "Dep. Variable:         tune_mses_test   R-squared:                       0.708\n",
            "Model:                            OLS   Adj. R-squared:                  0.683\n",
            "Method:                 Least Squares   F-statistic:                     27.33\n",
            "Date:                Mon, 01 May 2023   Prob (F-statistic):           5.17e-21\n",
            "Time:                        16:20:35   Log-Likelihood:                 142.78\n",
            "No. Observations:                  99   AIC:                            -267.6\n",
            "Df Residuals:                      90   BIC:                            -244.2\n",
            "Df Model:                           8                                         \n",
            "Covariance Type:            nonrobust                                         \n",
            "==================================================================================\n",
            "                     coef    std err          t      P>|t|      [0.025      0.975]\n",
            "----------------------------------------------------------------------------------\n",
            "const              0.9332      0.160      5.833      0.000       0.615       1.251\n",
            "tune_num_test     -0.0003      0.000     -1.516      0.133      -0.001    9.93e-05\n",
            "tune_pool_size -5.753e-05      0.000     -0.563      0.575      -0.000       0.000\n",
            "tune_max_iters    -0.0003      0.000     -1.620      0.109      -0.001    6.73e-05\n",
            "tune_k1            0.0090      0.003      2.772      0.007       0.003       0.015\n",
            "tune_k2            0.0048      0.003      1.599      0.113      -0.001       0.011\n",
            "tune_p1           -0.0008      0.003     -0.302      0.764      -0.006       0.005\n",
            "tune_p2           -0.0014      0.003     -0.501      0.618      -0.007       0.004\n",
            "log_labeled       -0.1294      0.021     -6.105      0.000      -0.171      -0.087\n",
            "==============================================================================\n",
            "Omnibus:                        4.434   Durbin-Watson:                   1.800\n",
            "Prob(Omnibus):                  0.109   Jarque-Bera (JB):                5.688\n",
            "Skew:                           0.058   Prob(JB):                       0.0582\n",
            "Kurtosis:                       4.168   Cond. No.                     7.63e+03\n",
            "==============================================================================\n",
            "\n",
            "Notes:\n",
            "[1] Standard Errors assume that the covariance matrix of the errors is correctly specified.\n",
            "[2] The condition number is large, 7.63e+03. This might indicate that there are\n",
            "strong multicollinearity or other numerical problems.\n"
          ]
        }
      ],
      "source": [
        "# Code based off of: https://realpython.com/linear-regression-in-python/\n",
        "\n",
        "x = etc_x\n",
        "y = etc_tune['tune_mses_test']\n",
        "\n",
        "# regression\n",
        "x = sm.add_constant(x)\n",
        "model = sm.OLS(y, x)\n",
        "results = model.fit()\n",
        "print(results.summary())"
      ]
    },
    {
      "cell_type": "code",
      "execution_count": 1,
      "metadata": {
        "id": "DW6B7jzBi-r5"
      },
      "outputs": [],
      "source": [
        "import numpy as np\n",
        "import pandas as pd"
      ]
    },
    {
      "cell_type": "code",
      "execution_count": 2,
      "metadata": {
        "id": "sQf0yAmYizsH"
      },
      "outputs": [],
      "source": [
        "etc_tune = pd.read_csv('etc_tune.csv')"
      ]
    },
    {
      "cell_type": "code",
      "execution_count": 5,
      "metadata": {
        "colab": {
          "base_uri": "https://localhost:8080/"
        },
        "id": "WZUy99JFjFKg",
        "outputId": "e41ffa59-7f38-4d68-ca3c-63d56a813ff5"
      },
      "outputs": [
        {
          "data": {
            "text/plain": [
              "count    99.000000\n",
              "mean      0.335507\n",
              "std       0.106473\n",
              "min       0.126410\n",
              "25%       0.241964\n",
              "50%       0.341617\n",
              "75%       0.406422\n",
              "max       0.662662\n",
              "Name: tune_mses_test, dtype: float64"
            ]
          },
          "execution_count": 5,
          "metadata": {},
          "output_type": "execute_result"
        }
      ],
      "source": [
        "etc_tune['tune_mses_test'].describe()"
      ]
    },
    {
      "attachments": {},
      "cell_type": "markdown",
      "metadata": {
        "id": "K0ocPSp1RWKx"
      },
      "source": [
        "# Hyperparameter Tuned Model\n",
        "\n",
        "Of the 100 Co-Regression models, the model which predicted detonation velocity with the most accuracy (test MSE 0.13, train MSE 0.11), used the following hyperparameters:\n",
        "\n",
        "* Training data: 403 points\n",
        "  * labeled data: 239 points\n",
        "  * unlabeled data: 164 points\n",
        "* Testing data: 36 points\n",
        "\n",
        "* Pool size: 223 points\n",
        "* Co-training iterations: 164\n",
        "\n",
        "* k1 = 3\n",
        "* k2 = 8\n",
        "* p1 = 6\n",
        "* p2 = 7"
      ]
    },
    {
      "cell_type": "code",
      "execution_count": 56,
      "metadata": {
        "colab": {
          "base_uri": "https://localhost:8080/",
          "height": 145
        },
        "id": "WxNpvEvjRamp",
        "outputId": "d4ad7770-de81-471b-bf9b-1199cc439105"
      },
      "outputs": [
        {
          "data": {
            "text/html": [
              "\n",
              "  <div id=\"df-45287de3-6021-461c-af6f-d3a2cf34032c\">\n",
              "    <div class=\"colab-df-container\">\n",
              "      <div>\n",
              "<style scoped>\n",
              "    .dataframe tbody tr th:only-of-type {\n",
              "        vertical-align: middle;\n",
              "    }\n",
              "\n",
              "    .dataframe tbody tr th {\n",
              "        vertical-align: top;\n",
              "    }\n",
              "\n",
              "    .dataframe thead th {\n",
              "        text-align: right;\n",
              "    }\n",
              "</style>\n",
              "<table border=\"1\" class=\"dataframe\">\n",
              "  <thead>\n",
              "    <tr style=\"text-align: right;\">\n",
              "      <th></th>\n",
              "      <th>tune_mses_test</th>\n",
              "      <th>tune_mses_train</th>\n",
              "      <th>tune_num_train</th>\n",
              "      <th>tune_num_test</th>\n",
              "      <th>tune_num_labeled</th>\n",
              "      <th>tune_num_unlabeled</th>\n",
              "      <th>tune_pool_size</th>\n",
              "      <th>tune_max_iters</th>\n",
              "      <th>tune_k1</th>\n",
              "      <th>tune_k2</th>\n",
              "      <th>tune_p1</th>\n",
              "      <th>tune_p2</th>\n",
              "    </tr>\n",
              "  </thead>\n",
              "  <tbody>\n",
              "    <tr>\n",
              "      <th>80</th>\n",
              "      <td>0.12641</td>\n",
              "      <td>0.10779</td>\n",
              "      <td>403</td>\n",
              "      <td>36</td>\n",
              "      <td>239</td>\n",
              "      <td>164</td>\n",
              "      <td>223</td>\n",
              "      <td>164</td>\n",
              "      <td>3</td>\n",
              "      <td>8</td>\n",
              "      <td>6</td>\n",
              "      <td>7</td>\n",
              "    </tr>\n",
              "  </tbody>\n",
              "</table>\n",
              "</div>\n",
              "      <button class=\"colab-df-convert\" onclick=\"convertToInteractive('df-45287de3-6021-461c-af6f-d3a2cf34032c')\"\n",
              "              title=\"Convert this dataframe to an interactive table.\"\n",
              "              style=\"display:none;\">\n",
              "        \n",
              "  <svg xmlns=\"http://www.w3.org/2000/svg\" height=\"24px\"viewBox=\"0 0 24 24\"\n",
              "       width=\"24px\">\n",
              "    <path d=\"M0 0h24v24H0V0z\" fill=\"none\"/>\n",
              "    <path d=\"M18.56 5.44l.94 2.06.94-2.06 2.06-.94-2.06-.94-.94-2.06-.94 2.06-2.06.94zm-11 1L8.5 8.5l.94-2.06 2.06-.94-2.06-.94L8.5 2.5l-.94 2.06-2.06.94zm10 10l.94 2.06.94-2.06 2.06-.94-2.06-.94-.94-2.06-.94 2.06-2.06.94z\"/><path d=\"M17.41 7.96l-1.37-1.37c-.4-.4-.92-.59-1.43-.59-.52 0-1.04.2-1.43.59L10.3 9.45l-7.72 7.72c-.78.78-.78 2.05 0 2.83L4 21.41c.39.39.9.59 1.41.59.51 0 1.02-.2 1.41-.59l7.78-7.78 2.81-2.81c.8-.78.8-2.07 0-2.86zM5.41 20L4 18.59l7.72-7.72 1.47 1.35L5.41 20z\"/>\n",
              "  </svg>\n",
              "      </button>\n",
              "      \n",
              "  <style>\n",
              "    .colab-df-container {\n",
              "      display:flex;\n",
              "      flex-wrap:wrap;\n",
              "      gap: 12px;\n",
              "    }\n",
              "\n",
              "    .colab-df-convert {\n",
              "      background-color: #E8F0FE;\n",
              "      border: none;\n",
              "      border-radius: 50%;\n",
              "      cursor: pointer;\n",
              "      display: none;\n",
              "      fill: #1967D2;\n",
              "      height: 32px;\n",
              "      padding: 0 0 0 0;\n",
              "      width: 32px;\n",
              "    }\n",
              "\n",
              "    .colab-df-convert:hover {\n",
              "      background-color: #E2EBFA;\n",
              "      box-shadow: 0px 1px 2px rgba(60, 64, 67, 0.3), 0px 1px 3px 1px rgba(60, 64, 67, 0.15);\n",
              "      fill: #174EA6;\n",
              "    }\n",
              "\n",
              "    [theme=dark] .colab-df-convert {\n",
              "      background-color: #3B4455;\n",
              "      fill: #D2E3FC;\n",
              "    }\n",
              "\n",
              "    [theme=dark] .colab-df-convert:hover {\n",
              "      background-color: #434B5C;\n",
              "      box-shadow: 0px 1px 3px 1px rgba(0, 0, 0, 0.15);\n",
              "      filter: drop-shadow(0px 1px 2px rgba(0, 0, 0, 0.3));\n",
              "      fill: #FFFFFF;\n",
              "    }\n",
              "  </style>\n",
              "\n",
              "      <script>\n",
              "        const buttonEl =\n",
              "          document.querySelector('#df-45287de3-6021-461c-af6f-d3a2cf34032c button.colab-df-convert');\n",
              "        buttonEl.style.display =\n",
              "          google.colab.kernel.accessAllowed ? 'block' : 'none';\n",
              "\n",
              "        async function convertToInteractive(key) {\n",
              "          const element = document.querySelector('#df-45287de3-6021-461c-af6f-d3a2cf34032c');\n",
              "          const dataTable =\n",
              "            await google.colab.kernel.invokeFunction('convertToInteractive',\n",
              "                                                     [key], {});\n",
              "          if (!dataTable) return;\n",
              "\n",
              "          const docLinkHtml = 'Like what you see? Visit the ' +\n",
              "            '<a target=\"_blank\" href=https://colab.research.google.com/notebooks/data_table.ipynb>data table notebook</a>'\n",
              "            + ' to learn more about interactive tables.';\n",
              "          element.innerHTML = '';\n",
              "          dataTable['output_type'] = 'display_data';\n",
              "          await google.colab.output.renderOutput(dataTable, element);\n",
              "          const docLink = document.createElement('div');\n",
              "          docLink.innerHTML = docLinkHtml;\n",
              "          element.appendChild(docLink);\n",
              "        }\n",
              "      </script>\n",
              "    </div>\n",
              "  </div>\n",
              "  "
            ],
            "text/plain": [
              "    tune_mses_test  tune_mses_train  tune_num_train  tune_num_test  \\\n",
              "80         0.12641          0.10779             403             36   \n",
              "\n",
              "    tune_num_labeled  tune_num_unlabeled  tune_pool_size  tune_max_iters  \\\n",
              "80               239                 164             223             164   \n",
              "\n",
              "    tune_k1  tune_k2  tune_p1  tune_p2  \n",
              "80        3        8        6        7  "
            ]
          },
          "execution_count": 56,
          "metadata": {},
          "output_type": "execute_result"
        }
      ],
      "source": [
        "etc_final = etc_tune.drop(['tune_mses1_test', 'tune_mses1_train',\n",
        "                       'tune_mses2_test', 'tune_mses2_train',\n",
        "                       \n",
        "                       'tune_maes_test', 'tune_maes_train',\n",
        "                       'tune_maes1_test', 'tune_maes1_train',\n",
        "                       'tune_maes2_test', 'tune_maes2_train'], axis=1)\n",
        "\n",
        "# Code based off of: https://pandas.pydata.org/docs/reference/api/pandas.DataFrame.sort_values.htm\n",
        "etc_final = etc_final.sort_values(by=['tune_mses_test'])\n",
        "etc_final = etc_final[:1]\n",
        "etc_final"
      ]
    }
  ],
  "metadata": {
    "colab": {
      "collapsed_sections": [
        "HlbcigXsQ3NF",
        "0O5vOOBitk7o",
        "1oJo_E4buamo",
        "haFhIP3nvJzJ",
        "bnbyJGievb8m",
        "Y2G0X_Ypxf_r",
        "c-0E6cxWx1CN",
        "Iwo5y09Jyo1Y",
        "bO7V9EDK03iK",
        "v5uLgZMpIpUU",
        "H18meYm7I-8g",
        "ywGxcME6JPrF",
        "wuqBaIKyJu7m",
        "B3eUUybYJ2MX",
        "Ur931tvGKLK4",
        "KTWI2ZzyKTrj",
        "y5nTOQL7KgDG",
        "wLYVk8SgKq4M",
        "0QBYZD1JK1gD",
        "SAgUxETUK_yp",
        "xake4lYHLI12",
        "hY_i_xMvQapQ",
        "YaVKAa5pLlP0",
        "O-vTHV1kOSqG",
        "Hmu80NthPFNl"
      ],
      "provenance": []
    },
    "kernelspec": {
      "display_name": "Python 3",
      "name": "python3"
    },
    "language_info": {
      "name": "python"
    }
  },
  "nbformat": 4,
  "nbformat_minor": 0
}
